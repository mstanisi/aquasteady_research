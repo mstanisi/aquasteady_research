{
 "cells": [
  {
   "cell_type": "code",
   "execution_count": 3,
   "id": "24c9a6da-da7d-4278-b749-ed15552d57ec",
   "metadata": {},
   "outputs": [
    {
     "ename": "ModuleNotFoundError",
     "evalue": "No module named 'sklearn'",
     "output_type": "error",
     "traceback": [
      "\u001b[31m---------------------------------------------------------------------------\u001b[39m",
      "\u001b[31mModuleNotFoundError\u001b[39m                       Traceback (most recent call last)",
      "\u001b[36mCell\u001b[39m\u001b[36m \u001b[39m\u001b[32mIn[3]\u001b[39m\u001b[32m, line 7\u001b[39m\n\u001b[32m      5\u001b[39m \u001b[38;5;28;01mimport\u001b[39;00m\u001b[38;5;250m \u001b[39m\u001b[34;01mmatplotlib\u001b[39;00m\u001b[34;01m.\u001b[39;00m\u001b[34;01mpyplot\u001b[39;00m\u001b[38;5;250m \u001b[39m\u001b[38;5;28;01mas\u001b[39;00m\u001b[38;5;250m \u001b[39m\u001b[34;01mplt\u001b[39;00m\n\u001b[32m      6\u001b[39m \u001b[38;5;28;01mimport\u001b[39;00m\u001b[38;5;250m \u001b[39m\u001b[34;01mseaborn\u001b[39;00m\u001b[38;5;250m \u001b[39m\u001b[38;5;28;01mas\u001b[39;00m\u001b[38;5;250m \u001b[39m\u001b[34;01msb\u001b[39;00m\n\u001b[32m----> \u001b[39m\u001b[32m7\u001b[39m \u001b[38;5;28;01mfrom\u001b[39;00m\u001b[38;5;250m \u001b[39m\u001b[34;01msklearn\u001b[39;00m\u001b[34;01m.\u001b[39;00m\u001b[34;01mensemble\u001b[39;00m\u001b[38;5;250m \u001b[39m\u001b[38;5;28;01mimport\u001b[39;00m RandomForestClassifier\n\u001b[32m      8\u001b[39m \u001b[38;5;28;01mfrom\u001b[39;00m\u001b[38;5;250m \u001b[39m\u001b[34;01msklearn\u001b[39;00m\u001b[34;01m.\u001b[39;00m\u001b[34;01mpreprocessing\u001b[39;00m\u001b[38;5;250m \u001b[39m\u001b[38;5;28;01mimport\u001b[39;00m LabelEncoder, StandardScaler\n\u001b[32m      9\u001b[39m \u001b[38;5;28;01mfrom\u001b[39;00m\u001b[38;5;250m \u001b[39m\u001b[34;01msklearn\u001b[39;00m\u001b[34;01m.\u001b[39;00m\u001b[34;01mmodel_selection\u001b[39;00m\u001b[38;5;250m \u001b[39m\u001b[38;5;28;01mimport\u001b[39;00m train_test_split\n",
      "\u001b[31mModuleNotFoundError\u001b[39m: No module named 'sklearn'"
     ]
    }
   ],
   "source": [
    "import sys\n",
    "import os\n",
    "import pandas as pd\n",
    "import numpy as np\n",
    "import matplotlib.pyplot as plt\n",
    "import seaborn as sb"
   ]
  },
  {
   "cell_type": "code",
   "execution_count": 8,
   "id": "b8e4b01b-d5e1-4971-9dc7-04c5c2d29c11",
   "metadata": {},
   "outputs": [
    {
     "name": "stdout",
     "output_type": "stream",
     "text": [
      "/Volumes/Mac/opt/anaconda3/envs/aquasteady\n"
     ]
    }
   ],
   "source": [
    "#Change to this when you move directories:\n",
    "# os.chdir('/Users/markos98/aquasteady_research')\n",
    "# path = '/Users/markos98/aquasteady/data/'\n",
    "\n",
    "print(sys.prefix)\n",
    "os.chdir('/Users/markos98/aquasteady_research')\n",
    "path = '/Users/markos98/aquasteady_research/data/raw/'"
   ]
  },
  {
   "cell_type": "markdown",
   "id": "3c6b48e3-edf0-494d-863f-a129b02288e0",
   "metadata": {},
   "source": [
    "### Importing and cleaning the data."
   ]
  },
  {
   "cell_type": "code",
   "execution_count": 9,
   "id": "363c5ba5-0f2e-4061-99b2-f5b6fa3d8c08",
   "metadata": {},
   "outputs": [],
   "source": [
    "df23 = pd.read_csv(path + 'irrigation data 2023.csv')\n",
    "df18 = pd.read_csv(path + 'irrigation data 2018.csv')\n",
    "df13 = pd.read_csv(path + 'irrigation data 2013.csv')\n",
    "df08 = pd.read_csv(path + 'irrigation data 2008.csv')"
   ]
  },
  {
   "cell_type": "code",
   "execution_count": 10,
   "id": "6a0f1d15-a9c7-4b71-a38a-1e27fc9b1844",
   "metadata": {},
   "outputs": [],
   "source": [
    "cols = df23.columns[1:51]\n",
    "for col in cols:\n",
    "    df23[col] = df23[col].str.replace(',', '').astype(float)\n",
    "cols = df18.columns[1:51]\n",
    "for col in cols:\n",
    "    df18[col] = df18[col].str.replace(',', '').astype(float)\n",
    "cols = df13.columns[1:51]\n",
    "for col in cols:\n",
    "    df13[col] = df13[col].str.replace(',', '').astype(float)\n",
    "cols = df08.columns[1:51]\n",
    "for col in cols:\n",
    "    df08[col] = df08[col].str.replace(',', '').astype(float)"
   ]
  },
  {
   "cell_type": "code",
   "execution_count": 11,
   "id": "9e7e3854-8cb3-45ae-971e-3ca03574d180",
   "metadata": {},
   "outputs": [],
   "source": [
    "df08.rename(columns={'Acre-feet applied - Investigating improvements\\rnot a priority': \n",
    "                     'Acre-feet applied - Investigating improvements not a priority'}, inplace=True)\n",
    "df08.rename(columns={'Farms - Investigating improvements\\rnot a priority': \n",
    "                     'Acre-feet applied - Investigating improvements not a priority'}, inplace=True)\n",
    "df08.rename(columns={'Acres irrigated - Investigating improvements\\rnot a priority': \n",
    "                     'Acres irrigated - Investigating improvements not a priority'}, inplace=True)\n",
    "df13.rename(columns={'Farms - Investigating improvements\\rnot a priority': \n",
    "                     'Farms - Investigating improvements not a priority'}, inplace=True)\n",
    "df13.rename(columns={'Acres irrigated - Investigating improvements\\rnot a priority': \n",
    "                     'Acres irrigated - Investigating improvements not a priority'}, inplace=True)\n",
    "df13.rename(columns={'Acre-feet applied - Investigating improvements\\rnot a priority': \n",
    "                     'Acre-feet applied - Investigating improvements not a priority'}, inplace=True)\n",
    "df18.rename(columns={'Farms - Investigating improvements\\rnot a priority': \n",
    "                     'Farms - Investigating improvements not a priority'}, inplace=True)\n",
    "df18.rename(columns={'Acres irrigated - Investigating improvements\\rnot a priority': \n",
    "                     'Acres irrigated - Investigating improvements not a priority'}, inplace=True)\n",
    "df18.rename(columns={'Acre-feet applied - Investigating improvements\\rnot a priority': \n",
    "                     'Acre-feet applied - Investigating improvements not a priority'}, inplace=True)\n",
    "df23.rename(columns={'Farms - Investigating improvements\\rnot a priority': \n",
    "                     'Farms - Investigating improvements not a priority'}, inplace=True)\n",
    "df23.rename(columns={'Acres irrigated - Investigating improvements\\rnot a priority': \n",
    "                     'Acres irrigated - Investigating improvements not a priority'}, inplace=True)\n",
    "df23.rename(columns={'Acre-feet applied - Investigating improvements\\rnot a priority': \n",
    "                     'Acre-feet applied - Investigating improvements not a priority'}, inplace=True)"
   ]
  },
  {
   "cell_type": "code",
   "execution_count": 12,
   "id": "313da0c4-67c9-4e47-a606-a1663713403e",
   "metadata": {},
   "outputs": [],
   "source": [
    "df23 = df23.loc[:, ~df23.columns.duplicated()]\n",
    "df18 = df18.loc[:, ~df18.columns.duplicated()]\n",
    "df13 = df13.loc[:, ~df13.columns.duplicated()]\n",
    "df08 = df08.loc[:, ~df08.columns.duplicated()]"
   ]
  },
  {
   "cell_type": "markdown",
   "id": "29619f76-a581-422c-bdfe-6301dcfd1d17",
   "metadata": {},
   "source": [
    "### Using acres irrigated as my metric and filtering. "
   ]
  },
  {
   "cell_type": "code",
   "execution_count": 13,
   "id": "899628ca-390e-4f12-b6de-698b60d575bf",
   "metadata": {},
   "outputs": [],
   "source": [
    "df23 = df23.filter(['AREA',\n",
    "                        'Acres irrigated - Improvements will not reduce costs enough to cover implementation costs',\n",
    "                        'Acres irrigated - Investigating improvements not a priority',\n",
    "                        'Acres irrigated - Risk of reduced yield or poorer crop quality',\n",
    "                        'Acres irrigated - Physical field or crop conditions limit system improvements',\n",
    "                       'Acres irrigated - Cannot finance improvements',\n",
    "                        'Acres irrigated - Landlord will not share in cost',\n",
    "                       'Acres irrigated - Uncertainty about future availability of water',\n",
    "                        'Acres irrigated - Will not be farming this operation long enough to justify improvements'], axis=1)\n",
    "df18 = df18.filter(['AREA',\n",
    "                        'Acres irrigated - Improvements will not reduce costs enough to cover implementation costs',\n",
    "                        'Acres irrigated - Investigating improvements not a priority',\n",
    "                        'Acres irrigated - Risk of reduced yield or poorer crop quality',\n",
    "                        'Acres irrigated - Physical field or crop conditions limit system improvements',\n",
    "                       'Acres irrigated - Cannot finance improvements',\n",
    "                        'Acres irrigated - Landlord will not share in cost',\n",
    "                       'Acres irrigated - Uncertainty about future availability of water',\n",
    "                        'Acres irrigated - Will not be farming this operation long enough to justify improvements'], axis=1)\n",
    "df13 = df13.filter(['AREA',\n",
    "                        'Acres irrigated - Improvements will not reduce costs enough to cover implementation costs',\n",
    "                        'Acres irrigated - Investigating improvements not a priority',\n",
    "                        'Acres irrigated - Risk of reduced yield or poorer crop quality',\n",
    "                        'Acres irrigated - Physical field or crop conditions limit system improvements',\n",
    "                       'Acres irrigated - Cannot finance improvements',\n",
    "                        'Acres irrigated - Landlord will not share in cost',\n",
    "                       'Acres irrigated - Uncertainty about future availability of water',\n",
    "                        'Acres irrigated - Will not be farming this operation long enough to justify improvements'], axis=1)\n",
    "df03 = df08.filter(['AREA',\n",
    "                        'Acres irrigated - Improvements will increase management time or cost',\n",
    "                        'Acres irrigated - Investigating improvements not a priority',\n",
    "                        'Acres irrigated - Risk of reduced yield or poorer crop quality',\n",
    "                        'Acres irrigated - Physical field or crop conditions limit system improvements',\n",
    "                       'Acres irrigated - Cannot finance improvements',\n",
    "                        'Acres irrigated - Landlord will not share in cost',\n",
    "                       'Acres irrigated - Uncertainty about future availability of water',\n",
    "                        'Acres irrigated - Will not be farming this operation long enough to justify improvements'], axis=1)"
   ]
  },
  {
   "cell_type": "code",
   "execution_count": 14,
   "id": "af1bda7c-9b1a-4d5e-99d5-9da5d1c92bc6",
   "metadata": {},
   "outputs": [],
   "source": [
    "df23.columns = df23.columns.str.replace('Acres irrigated - ', '')\n",
    "df18.columns = df18.columns.str.replace('Acres irrigated - ', '')\n",
    "df13.columns = df13.columns.str.replace('Acres irrigated - ', '')\n",
    "df03.columns = df03.columns.str.replace('Acres irrigated - ', '')"
   ]
  },
  {
   "cell_type": "code",
   "execution_count": 15,
   "id": "99fa8b33-feb2-4952-976f-cd62582163d7",
   "metadata": {},
   "outputs": [],
   "source": [
    "# df23.columns = df23.columns.str.replace('(2023)', '')"
   ]
  },
  {
   "cell_type": "markdown",
   "id": "241e3601-1ccd-4617-9129-b792c3fcd18f",
   "metadata": {},
   "source": [
    "### Joining dataframes for both features and for states."
   ]
  },
  {
   "cell_type": "code",
   "execution_count": 16,
   "id": "e1d9d736-9a5a-477a-a312-ff4ace805618",
   "metadata": {},
   "outputs": [],
   "source": [
    "features23 = df23.rename(columns=lambda x: x + \" (2023)\" if x != df23.columns[0] else x)\n",
    "features18 = df18.rename(columns=lambda x: x + \" (2018)\" if x != df18.columns[0] else x)\n",
    "features13 = df13.rename(columns=lambda x: x + \" (2013)\" if x != df13.columns[0] else x)\n",
    "features03 = df03.rename(columns=lambda x: x + \" (2003)\" if x != df03.columns[0] else x)"
   ]
  },
  {
   "cell_type": "code",
   "execution_count": 17,
   "id": "f0fd9a9d-d3df-49cb-bab1-2968997c4c74",
   "metadata": {},
   "outputs": [],
   "source": [
    "# setting 'area' as index\n",
    "features23 = features23.set_index('AREA')\n",
    "features18 = features18.set_index('AREA')\n",
    "features13 = features13.set_index('AREA')\n",
    "features03 = features03.set_index('AREA')\n",
    "\n",
    "# merge\n",
    "features_all = features23.join([features18, features13, features03], how='outer')"
   ]
  },
  {
   "cell_type": "code",
   "execution_count": 26,
   "id": "da895895-f73c-48f7-b938-4aa95962522c",
   "metadata": {},
   "outputs": [],
   "source": [
    "features_all.to_csv('features_merged.csv', index=True)\n",
    "features23.to_csv('features23.csv', index=True)\n",
    "\n",
    "transformed_path = '/Users/markos98/aquasteady_research/data/transformed/'"
   ]
  },
  {
   "cell_type": "code",
   "execution_count": 28,
   "id": "03b6fb64-aff1-4dd1-b1a9-3fab442503a1",
   "metadata": {},
   "outputs": [],
   "source": [
    "# Reimporting after some cleaning in openrefine\n",
    "\n",
    "features_all = pd.read_csv(transformed_path + 'features.csv')\n",
    "features23 = pd.read_csv(transformed_path + 'features23.csv')"
   ]
  },
  {
   "cell_type": "markdown",
   "id": "06a04a17-dc47-466d-926f-a7ea6e816489",
   "metadata": {},
   "source": [
    "### Transposing dataframes to get regions as my target."
   ]
  },
  {
   "cell_type": "code",
   "execution_count": 20,
   "id": "e8eae07d-97c8-4e30-ae2f-4f6e2a152f5a",
   "metadata": {},
   "outputs": [],
   "source": [
    "# Now for the same process but for states\n",
    "\n",
    "states23 = df23.transpose()\n",
    "states23.columns = states23.iloc[0]\n",
    "states23 = states23.iloc[1:]\n",
    "states23.index.name = 'IMPEDIMENT' \n",
    "\n",
    "states18 = df18.transpose()\n",
    "states18.columns = states18.iloc[0]\n",
    "states18 = states18.iloc[1:]\n",
    "states18.index.name = 'IMPEDIMENT' \n",
    "\n",
    "states13 = df13.transpose()\n",
    "states13.columns = states13.iloc[0]\n",
    "states13 = states13.iloc[1:]\n",
    "states13.index.name = 'IMPEDIMENT' \n",
    "\n",
    "states03 = df03.transpose()\n",
    "states03.columns = states03.iloc[0]\n",
    "states03 = states03.iloc[1:]\n",
    "states03.index.name = 'IMPEDIMENT' "
   ]
  },
  {
   "cell_type": "code",
   "execution_count": 21,
   "id": "7f1219ca-05b9-47c5-86a2-3531a5c33163",
   "metadata": {},
   "outputs": [],
   "source": [
    "states23 = states23.rename(columns=lambda x: x + \" (2023)\" if x != df23.columns[0] else x)\n",
    "states18 = states18.rename(columns=lambda x: x + \" (2018)\" if x != df18.columns[0] else x)\n",
    "states13 = states13.rename(columns=lambda x: x + \" (2013)\" if x != df13.columns[0] else x)\n",
    "states03 = states03.rename(columns=lambda x: x + \" (2003)\" if x != df03.columns[0] else x)"
   ]
  },
  {
   "cell_type": "code",
   "execution_count": 22,
   "id": "fd8d4a01-2274-4f17-a28a-82de55c322a9",
   "metadata": {},
   "outputs": [],
   "source": [
    "states_all = states23.join([states18, states13, states03], how='outer')\n",
    "\n",
    "states_all.to_csv('states_peek.csv', index=True)"
   ]
  },
  {
   "cell_type": "code",
   "execution_count": 23,
   "id": "69873796-cd32-48f2-86e7-0d4e05c30e51",
   "metadata": {},
   "outputs": [],
   "source": [
    "# Retrived from OpenRefine with just the regions\n",
    "\n",
    "regions = pd.read_csv(transformed_path + 'regions.csv')\n",
    "regions = regions.set_index('IMPEDIMENT')"
   ]
  }
 ],
 "metadata": {
  "kernelspec": {
   "display_name": "Python 3 (ipykernel)",
   "language": "python",
   "name": "python3"
  },
  "language_info": {
   "codemirror_mode": {
    "name": "ipython",
    "version": 3
   },
   "file_extension": ".py",
   "mimetype": "text/x-python",
   "name": "python",
   "nbconvert_exporter": "python",
   "pygments_lexer": "ipython3",
   "version": "3.13.2"
  }
 },
 "nbformat": 4,
 "nbformat_minor": 5
}
