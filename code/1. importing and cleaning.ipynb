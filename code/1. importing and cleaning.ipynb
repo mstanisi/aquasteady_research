{
 "cells": [
  {
   "cell_type": "code",
   "execution_count": 1,
   "id": "24c9a6da-da7d-4278-b749-ed15552d57ec",
   "metadata": {},
   "outputs": [],
   "source": [
    "import sys\n",
    "import os\n",
    "import pandas as pd\n",
    "import numpy as np\n",
    "import matplotlib.pyplot as plt\n",
    "import seaborn as sb"
   ]
  },
  {
   "cell_type": "code",
   "execution_count": 2,
   "id": "b8e4b01b-d5e1-4971-9dc7-04c5c2d29c11",
   "metadata": {},
   "outputs": [
    {
     "name": "stdout",
     "output_type": "stream",
     "text": [
      "/Volumes/Mac/opt/anaconda3/envs/aquasteady\n"
     ]
    }
   ],
   "source": [
    "#Change to this when you move directories:\n",
    "# os.chdir('/Users/markos98/aquasteady_research')\n",
    "# path = '/Users/markos98/aquasteady/data/'\n",
    "\n",
    "print(sys.prefix)\n",
    "os.chdir('/Users/markos98/aquasteady_research')\n",
    "path = '/Users/markos98/aquasteady_research/data/raw/'"
   ]
  },
  {
   "cell_type": "markdown",
   "id": "3c6b48e3-edf0-494d-863f-a129b02288e0",
   "metadata": {},
   "source": [
    "### Importing and cleaning the data."
   ]
  },
  {
   "cell_type": "code",
   "execution_count": 9,
   "id": "363c5ba5-0f2e-4061-99b2-f5b6fa3d8c08",
   "metadata": {},
   "outputs": [],
   "source": [
    "df23 = pd.read_csv(path + 'irrigation data 2023.csv')\n",
    "df18 = pd.read_csv(path + 'irrigation data 2018.csv')\n",
    "df13 = pd.read_csv(path + 'irrigation data 2013.csv')\n",
    "df08 = pd.read_csv(path + 'irrigation data 2008.csv')"
   ]
  },
  {
   "cell_type": "code",
   "execution_count": 10,
   "id": "6a0f1d15-a9c7-4b71-a38a-1e27fc9b1844",
   "metadata": {},
   "outputs": [],
   "source": [
    "cols = df23.columns[1:51]\n",
    "for col in cols:\n",
    "    df23[col] = df23[col].str.replace(',', '').astype(float)\n",
    "cols = df18.columns[1:51]\n",
    "for col in cols:\n",
    "    df18[col] = df18[col].str.replace(',', '').astype(float)\n",
    "cols = df13.columns[1:51]\n",
    "for col in cols:\n",
    "    df13[col] = df13[col].str.replace(',', '').astype(float)\n",
    "cols = df08.columns[1:51]\n",
    "for col in cols:\n",
    "    df08[col] = df08[col].str.replace(',', '').astype(float)"
   ]
  },
  {
   "cell_type": "code",
   "execution_count": 11,
   "id": "9e7e3854-8cb3-45ae-971e-3ca03574d180",
   "metadata": {},
   "outputs": [],
   "source": [
    "df08.rename(columns={'Acre-feet applied - Investigating improvements\\rnot a priority': \n",
    "                     'Acre-feet applied - Investigating improvements not a priority'}, inplace=True)\n",
    "df08.rename(columns={'Farms - Investigating improvements\\rnot a priority': \n",
    "                     'Acre-feet applied - Investigating improvements not a priority'}, inplace=True)\n",
    "df08.rename(columns={'Acres irrigated - Investigating improvements\\rnot a priority': \n",
    "                     'Acres irrigated - Investigating improvements not a priority'}, inplace=True)\n",
    "df13.rename(columns={'Farms - Investigating improvements\\rnot a priority': \n",
    "                     'Farms - Investigating improvements not a priority'}, inplace=True)\n",
    "df13.rename(columns={'Acres irrigated - Investigating improvements\\rnot a priority': \n",
    "                     'Acres irrigated - Investigating improvements not a priority'}, inplace=True)\n",
    "df13.rename(columns={'Acre-feet applied - Investigating improvements\\rnot a priority': \n",
    "                     'Acre-feet applied - Investigating improvements not a priority'}, inplace=True)\n",
    "df18.rename(columns={'Farms - Investigating improvements\\rnot a priority': \n",
    "                     'Farms - Investigating improvements not a priority'}, inplace=True)\n",
    "df18.rename(columns={'Acres irrigated - Investigating improvements\\rnot a priority': \n",
    "                     'Acres irrigated - Investigating improvements not a priority'}, inplace=True)\n",
    "df18.rename(columns={'Acre-feet applied - Investigating improvements\\rnot a priority': \n",
    "                     'Acre-feet applied - Investigating improvements not a priority'}, inplace=True)\n",
    "df23.rename(columns={'Farms - Investigating improvements\\rnot a priority': \n",
    "                     'Farms - Investigating improvements not a priority'}, inplace=True)\n",
    "df23.rename(columns={'Acres irrigated - Investigating improvements\\rnot a priority': \n",
    "                     'Acres irrigated - Investigating improvements not a priority'}, inplace=True)\n",
    "df23.rename(columns={'Acre-feet applied - Investigating improvements\\rnot a priority': \n",
    "                     'Acre-feet applied - Investigating improvements not a priority'}, inplace=True)"
   ]
  },
  {
   "cell_type": "code",
   "execution_count": 12,
   "id": "313da0c4-67c9-4e47-a606-a1663713403e",
   "metadata": {},
   "outputs": [],
   "source": [
    "df23 = df23.loc[:, ~df23.columns.duplicated()]\n",
    "df18 = df18.loc[:, ~df18.columns.duplicated()]\n",
    "df13 = df13.loc[:, ~df13.columns.duplicated()]\n",
    "df08 = df08.loc[:, ~df08.columns.duplicated()]"
   ]
  },
  {
   "cell_type": "markdown",
   "id": "29619f76-a581-422c-bdfe-6301dcfd1d17",
   "metadata": {},
   "source": [
    "### Using acres irrigated as my metric and filtering. "
   ]
  },
  {
   "cell_type": "code",
   "execution_count": 13,
   "id": "899628ca-390e-4f12-b6de-698b60d575bf",
   "metadata": {},
   "outputs": [],
   "source": [
    "df23 = df23.filter(['AREA',\n",
    "                        'Acres irrigated - Improvements will not reduce costs enough to cover implementation costs',\n",
    "                        'Acres irrigated - Investigating improvements not a priority',\n",
    "                        'Acres irrigated - Risk of reduced yield or poorer crop quality',\n",
    "                        'Acres irrigated - Physical field or crop conditions limit system improvements',\n",
    "                       'Acres irrigated - Cannot finance improvements',\n",
    "                        'Acres irrigated - Landlord will not share in cost',\n",
    "                       'Acres irrigated - Uncertainty about future availability of water',\n",
    "                        'Acres irrigated - Will not be farming this operation long enough to justify improvements'], axis=1)\n",
    "df18 = df18.filter(['AREA',\n",
    "                        'Acres irrigated - Improvements will not reduce costs enough to cover implementation costs',\n",
    "                        'Acres irrigated - Investigating improvements not a priority',\n",
    "                        'Acres irrigated - Risk of reduced yield or poorer crop quality',\n",
    "                        'Acres irrigated - Physical field or crop conditions limit system improvements',\n",
    "                       'Acres irrigated - Cannot finance improvements',\n",
    "                        'Acres irrigated - Landlord will not share in cost',\n",
    "                       'Acres irrigated - Uncertainty about future availability of water',\n",
    "                        'Acres irrigated - Will not be farming this operation long enough to justify improvements'], axis=1)\n",
    "df13 = df13.filter(['AREA',\n",
    "                        'Acres irrigated - Improvements will not reduce costs enough to cover implementation costs',\n",
    "                        'Acres irrigated - Investigating improvements not a priority',\n",
    "                        'Acres irrigated - Risk of reduced yield or poorer crop quality',\n",
    "                        'Acres irrigated - Physical field or crop conditions limit system improvements',\n",
    "                       'Acres irrigated - Cannot finance improvements',\n",
    "                        'Acres irrigated - Landlord will not share in cost',\n",
    "                       'Acres irrigated - Uncertainty about future availability of water',\n",
    "                        'Acres irrigated - Will not be farming this operation long enough to justify improvements'], axis=1)\n",
    "df03 = df08.filter(['AREA',\n",
    "                        'Acres irrigated - Improvements will increase management time or cost',\n",
    "                        'Acres irrigated - Investigating improvements not a priority',\n",
    "                        'Acres irrigated - Risk of reduced yield or poorer crop quality',\n",
    "                        'Acres irrigated - Physical field or crop conditions limit system improvements',\n",
    "                       'Acres irrigated - Cannot finance improvements',\n",
    "                        'Acres irrigated - Landlord will not share in cost',\n",
    "                       'Acres irrigated - Uncertainty about future availability of water',\n",
    "                        'Acres irrigated - Will not be farming this operation long enough to justify improvements'], axis=1)"
   ]
  },
  {
   "cell_type": "code",
   "execution_count": 14,
   "id": "af1bda7c-9b1a-4d5e-99d5-9da5d1c92bc6",
   "metadata": {},
   "outputs": [],
   "source": [
    "df23.columns = df23.columns.str.replace('Acres irrigated - ', '')\n",
    "df18.columns = df18.columns.str.replace('Acres irrigated - ', '')\n",
    "df13.columns = df13.columns.str.replace('Acres irrigated - ', '')\n",
    "df03.columns = df03.columns.str.replace('Acres irrigated - ', '')"
   ]
  },
  {
   "cell_type": "code",
   "execution_count": 15,
   "id": "99fa8b33-feb2-4952-976f-cd62582163d7",
   "metadata": {},
   "outputs": [],
   "source": [
    "# df23.columns = df23.columns.str.replace('(2023)', '')"
   ]
  },
  {
   "cell_type": "markdown",
   "id": "241e3601-1ccd-4617-9129-b792c3fcd18f",
   "metadata": {},
   "source": [
    "### Joining dataframes for both features and for states."
   ]
  },
  {
   "cell_type": "code",
   "execution_count": 16,
   "id": "e1d9d736-9a5a-477a-a312-ff4ace805618",
   "metadata": {},
   "outputs": [],
   "source": [
    "features23 = df23.rename(columns=lambda x: x + \" (2023)\" if x != df23.columns[0] else x)\n",
    "features18 = df18.rename(columns=lambda x: x + \" (2018)\" if x != df18.columns[0] else x)\n",
    "features13 = df13.rename(columns=lambda x: x + \" (2013)\" if x != df13.columns[0] else x)\n",
    "features03 = df03.rename(columns=lambda x: x + \" (2003)\" if x != df03.columns[0] else x)"
   ]
  },
  {
   "cell_type": "code",
   "execution_count": 17,
   "id": "f0fd9a9d-d3df-49cb-bab1-2968997c4c74",
   "metadata": {},
   "outputs": [],
   "source": [
    "# setting 'area' as index\n",
    "features23 = features23.set_index('AREA')\n",
    "features18 = features18.set_index('AREA')\n",
    "features13 = features13.set_index('AREA')\n",
    "features03 = features03.set_index('AREA')\n",
    "\n",
    "# merge\n",
    "features_all = features23.join([features18, features13, features03], how='outer')"
   ]
  },
  {
   "cell_type": "code",
   "execution_count": 26,
   "id": "da895895-f73c-48f7-b938-4aa95962522c",
   "metadata": {},
   "outputs": [],
   "source": [
    "features_all.to_csv('features_merged.csv', index=True)\n",
    "features23.to_csv('features23.csv', index=True)\n",
    "\n",
    "transformed_path = '/Users/markos98/aquasteady_research/data/transformed/'"
   ]
  },
  {
   "cell_type": "code",
   "execution_count": 28,
   "id": "03b6fb64-aff1-4dd1-b1a9-3fab442503a1",
   "metadata": {},
   "outputs": [],
   "source": [
    "# Reimporting after some cleaning in openrefine\n",
    "\n",
    "features_all = pd.read_csv(transformed_path + 'features.csv')\n",
    "features23 = pd.read_csv(transformed_path + 'features23.csv')"
   ]
  },
  {
   "cell_type": "markdown",
   "id": "06a04a17-dc47-466d-926f-a7ea6e816489",
   "metadata": {},
   "source": [
    "### Transposing dataframes to get regions as my target."
   ]
  },
  {
   "cell_type": "code",
   "execution_count": 20,
   "id": "e8eae07d-97c8-4e30-ae2f-4f6e2a152f5a",
   "metadata": {},
   "outputs": [],
   "source": [
    "# Now for the same process but for states\n",
    "\n",
    "states23 = df23.transpose()\n",
    "states23.columns = states23.iloc[0]\n",
    "states23 = states23.iloc[1:]\n",
    "states23.index.name = 'IMPEDIMENT' \n",
    "\n",
    "states18 = df18.transpose()\n",
    "states18.columns = states18.iloc[0]\n",
    "states18 = states18.iloc[1:]\n",
    "states18.index.name = 'IMPEDIMENT' \n",
    "\n",
    "states13 = df13.transpose()\n",
    "states13.columns = states13.iloc[0]\n",
    "states13 = states13.iloc[1:]\n",
    "states13.index.name = 'IMPEDIMENT' \n",
    "\n",
    "states03 = df03.transpose()\n",
    "states03.columns = states03.iloc[0]\n",
    "states03 = states03.iloc[1:]\n",
    "states03.index.name = 'IMPEDIMENT' "
   ]
  },
  {
   "cell_type": "code",
   "execution_count": 21,
   "id": "7f1219ca-05b9-47c5-86a2-3531a5c33163",
   "metadata": {},
   "outputs": [],
   "source": [
    "states23 = states23.rename(columns=lambda x: x + \" (2023)\" if x != df23.columns[0] else x)\n",
    "states18 = states18.rename(columns=lambda x: x + \" (2018)\" if x != df18.columns[0] else x)\n",
    "states13 = states13.rename(columns=lambda x: x + \" (2013)\" if x != df13.columns[0] else x)\n",
    "states03 = states03.rename(columns=lambda x: x + \" (2003)\" if x != df03.columns[0] else x)"
   ]
  },
  {
   "cell_type": "code",
   "execution_count": 22,
   "id": "fd8d4a01-2274-4f17-a28a-82de55c322a9",
   "metadata": {},
   "outputs": [],
   "source": [
    "states_all = states23.join([states18, states13, states03], how='outer')\n",
    "\n",
    "states_all.to_csv('states_peek.csv', index=True)"
   ]
  },
  {
   "cell_type": "code",
   "execution_count": 23,
   "id": "69873796-cd32-48f2-86e7-0d4e05c30e51",
   "metadata": {},
   "outputs": [],
   "source": [
    "# Retrived from OpenRefine with just the regions\n",
    "\n",
    "regions = pd.read_csv(transformed_path + 'regions.csv')\n",
    "regions = regions.set_index('IMPEDIMENT')"
   ]
  },
  {
   "cell_type": "markdown",
   "id": "11840fb9-e5d3-405e-a19b-f641d13672ab",
   "metadata": {},
   "source": [
    "#### Making a new dataframe for streamlit dashboard"
   ]
  },
  {
   "cell_type": "code",
   "execution_count": 3,
   "id": "bcaf5648-6b9e-45b7-a030-adf53597349d",
   "metadata": {},
   "outputs": [],
   "source": [
    "transformed_path = '/Users/markos98/aquasteady_research/data/transformed/'"
   ]
  },
  {
   "cell_type": "code",
   "execution_count": 4,
   "id": "0a0d7f39-6df0-47e8-bfbc-7cb2b1335c80",
   "metadata": {},
   "outputs": [],
   "source": [
    "dashboard = pd.read_csv(transformed_path + 'features_merged.csv')"
   ]
  },
  {
   "cell_type": "code",
   "execution_count": 21,
   "id": "4dbf0bee-20d0-437a-867f-866280580f41",
   "metadata": {},
   "outputs": [],
   "source": [
    "reduced_yield_cols = [col for col in dashboard.columns if 'reduced yield' in col.lower()]\n",
    "\n",
    "reduced_yield_cols = ['AREA'] + reduced_yield_cols\n",
    "\n",
    "reduced_yield = dashboard[reduced_yield_cols]"
   ]
  },
  {
   "cell_type": "code",
   "execution_count": 22,
   "id": "2fb4b269-9b31-4492-a8f0-8f25dd1cb88f",
   "metadata": {
    "collapsed": true,
    "jupyter": {
     "outputs_hidden": true
    }
   },
   "outputs": [
    {
     "data": {
      "text/html": [
       "<div>\n",
       "<style scoped>\n",
       "    .dataframe tbody tr th:only-of-type {\n",
       "        vertical-align: middle;\n",
       "    }\n",
       "\n",
       "    .dataframe tbody tr th {\n",
       "        vertical-align: top;\n",
       "    }\n",
       "\n",
       "    .dataframe thead th {\n",
       "        text-align: right;\n",
       "    }\n",
       "</style>\n",
       "<table border=\"1\" class=\"dataframe\">\n",
       "  <thead>\n",
       "    <tr style=\"text-align: right;\">\n",
       "      <th></th>\n",
       "      <th>AREA</th>\n",
       "      <th>Risk of reduced yield or poorer crop quality (2023)</th>\n",
       "      <th>Risk of reduced yield or poorer crop quality (2018)</th>\n",
       "      <th>Risk of reduced yield or poorer crop quality (2013)</th>\n",
       "      <th>Risk of reduced yield or poorer crop quality (2003)</th>\n",
       "    </tr>\n",
       "  </thead>\n",
       "  <tbody>\n",
       "    <tr>\n",
       "      <th>0</th>\n",
       "      <td>United States</td>\n",
       "      <td>6367477.0</td>\n",
       "      <td>5698594</td>\n",
       "      <td>5208860.0</td>\n",
       "      <td>4708089.0</td>\n",
       "    </tr>\n",
       "    <tr>\n",
       "      <th>1</th>\n",
       "      <td>Alabama</td>\n",
       "      <td>17730.0</td>\n",
       "      <td>10906</td>\n",
       "      <td>7215.0</td>\n",
       "      <td>7593.0</td>\n",
       "    </tr>\n",
       "    <tr>\n",
       "      <th>2</th>\n",
       "      <td>Alaska</td>\n",
       "      <td>122.0</td>\n",
       "      <td>21</td>\n",
       "      <td>40.0</td>\n",
       "      <td>NaN</td>\n",
       "    </tr>\n",
       "    <tr>\n",
       "      <th>3</th>\n",
       "      <td>Arizona</td>\n",
       "      <td>150187.0</td>\n",
       "      <td>128561</td>\n",
       "      <td>67194.0</td>\n",
       "      <td>43359.0</td>\n",
       "    </tr>\n",
       "    <tr>\n",
       "      <th>4</th>\n",
       "      <td>Arkansas</td>\n",
       "      <td>424880.0</td>\n",
       "      <td>368362</td>\n",
       "      <td>383750.0</td>\n",
       "      <td>363468.0</td>\n",
       "    </tr>\n",
       "  </tbody>\n",
       "</table>\n",
       "</div>"
      ],
      "text/plain": [
       "            AREA  Risk of reduced yield or poorer crop quality (2023)  \\\n",
       "0  United States                                          6367477.0     \n",
       "1        Alabama                                            17730.0     \n",
       "2         Alaska                                              122.0     \n",
       "3        Arizona                                           150187.0     \n",
       "4       Arkansas                                           424880.0     \n",
       "\n",
       "   Risk of reduced yield or poorer crop quality (2018)  \\\n",
       "0                                            5698594     \n",
       "1                                              10906     \n",
       "2                                                 21     \n",
       "3                                             128561     \n",
       "4                                             368362     \n",
       "\n",
       "   Risk of reduced yield or poorer crop quality (2013)  \\\n",
       "0                                          5208860.0     \n",
       "1                                             7215.0     \n",
       "2                                               40.0     \n",
       "3                                            67194.0     \n",
       "4                                           383750.0     \n",
       "\n",
       "   Risk of reduced yield or poorer crop quality (2003)  \n",
       "0                                          4708089.0    \n",
       "1                                             7593.0    \n",
       "2                                                NaN    \n",
       "3                                            43359.0    \n",
       "4                                           363468.0    "
      ]
     },
     "execution_count": 22,
     "metadata": {},
     "output_type": "execute_result"
    }
   ],
   "source": [
    "reduced_yield.head()"
   ]
  },
  {
   "cell_type": "code",
   "execution_count": 30,
   "id": "8eed7467-c91b-4385-b3d0-52791eabeb29",
   "metadata": {},
   "outputs": [],
   "source": [
    "# Melt dataframe\n",
    "melted_reduced_yield = reduced_yield.melt(\n",
    "    id_vars=['AREA'], \n",
    "    value_vars=[\n",
    "        'Risk of reduced yield or poorer crop quality (2023)',\n",
    "        'Risk of reduced yield or poorer crop quality (2018)',\n",
    "        'Risk of reduced yield or poorer crop quality (2013)',\n",
    "        'Risk of reduced yield or poorer crop quality (2003)'\n",
    "    ],\n",
    "    var_name='year',\n",
    "    value_name='Acres Irrigated'\n",
    ")\n",
    "\n",
    "# Clean the 'year' column to extract just the year (e.g., 2023)\n",
    "melted_reduced_yield['year'] = melted_reduced_yield['year'].str.extract(r'(\\d{4})').astype(int)\n",
    "\n",
    "# Optional: Add a placeholder 'id' column if needed (like in us-population)\n",
    "melted_reduced_yield['id'] = range(1, len(melted_reduced_yield) + 1)\n",
    "\n",
    "# Reorder columns to match us-population structure\n",
    "reduced_yield = melted_reduced_yield[['AREA', 'year', 'Acres Irrigated', 'id']]"
   ]
  },
  {
   "cell_type": "code",
   "execution_count": 31,
   "id": "c0617766-9660-404d-bb5d-e1bef080265d",
   "metadata": {},
   "outputs": [
    {
     "data": {
      "text/html": [
       "<div>\n",
       "<style scoped>\n",
       "    .dataframe tbody tr th:only-of-type {\n",
       "        vertical-align: middle;\n",
       "    }\n",
       "\n",
       "    .dataframe tbody tr th {\n",
       "        vertical-align: top;\n",
       "    }\n",
       "\n",
       "    .dataframe thead th {\n",
       "        text-align: right;\n",
       "    }\n",
       "</style>\n",
       "<table border=\"1\" class=\"dataframe\">\n",
       "  <thead>\n",
       "    <tr style=\"text-align: right;\">\n",
       "      <th></th>\n",
       "      <th>AREA</th>\n",
       "      <th>year</th>\n",
       "      <th>Acres Irrigated</th>\n",
       "      <th>id</th>\n",
       "    </tr>\n",
       "  </thead>\n",
       "  <tbody>\n",
       "    <tr>\n",
       "      <th>0</th>\n",
       "      <td>United States</td>\n",
       "      <td>2023</td>\n",
       "      <td>6367477.0</td>\n",
       "      <td>1</td>\n",
       "    </tr>\n",
       "    <tr>\n",
       "      <th>1</th>\n",
       "      <td>Alabama</td>\n",
       "      <td>2023</td>\n",
       "      <td>17730.0</td>\n",
       "      <td>2</td>\n",
       "    </tr>\n",
       "    <tr>\n",
       "      <th>2</th>\n",
       "      <td>Alaska</td>\n",
       "      <td>2023</td>\n",
       "      <td>122.0</td>\n",
       "      <td>3</td>\n",
       "    </tr>\n",
       "    <tr>\n",
       "      <th>3</th>\n",
       "      <td>Arizona</td>\n",
       "      <td>2023</td>\n",
       "      <td>150187.0</td>\n",
       "      <td>4</td>\n",
       "    </tr>\n",
       "    <tr>\n",
       "      <th>4</th>\n",
       "      <td>Arkansas</td>\n",
       "      <td>2023</td>\n",
       "      <td>424880.0</td>\n",
       "      <td>5</td>\n",
       "    </tr>\n",
       "  </tbody>\n",
       "</table>\n",
       "</div>"
      ],
      "text/plain": [
       "            AREA  year  Acres Irrigated  id\n",
       "0  United States  2023        6367477.0   1\n",
       "1        Alabama  2023          17730.0   2\n",
       "2         Alaska  2023            122.0   3\n",
       "3        Arizona  2023         150187.0   4\n",
       "4       Arkansas  2023         424880.0   5"
      ]
     },
     "execution_count": 31,
     "metadata": {},
     "output_type": "execute_result"
    }
   ],
   "source": [
    "reduced_yield.head()"
   ]
  },
  {
   "cell_type": "code",
   "execution_count": 23,
   "id": "5b1007c4-9636-4d3f-905f-911e04d29d21",
   "metadata": {},
   "outputs": [],
   "source": [
    "finance_cols = [col for col in dashboard.columns if 'finance' in col.lower()]\n",
    "\n",
    "finance_cols = ['AREA'] + finance_cols\n",
    "\n",
    "finance = dashboard[finance_cols]"
   ]
  },
  {
   "cell_type": "code",
   "execution_count": 28,
   "id": "eb4795eb-ddb9-4a2c-9d50-44b63aee1104",
   "metadata": {
    "collapsed": true,
    "jupyter": {
     "outputs_hidden": true
    }
   },
   "outputs": [
    {
     "ename": "ValueError",
     "evalue": "value_name (Acres Irrigated) cannot match an element in the DataFrame columns.",
     "output_type": "error",
     "traceback": [
      "\u001b[31m---------------------------------------------------------------------------\u001b[39m",
      "\u001b[31mValueError\u001b[39m                                Traceback (most recent call last)",
      "\u001b[36mCell\u001b[39m\u001b[36m \u001b[39m\u001b[32mIn[28]\u001b[39m\u001b[32m, line 2\u001b[39m\n\u001b[32m      1\u001b[39m \u001b[38;5;66;03m# Melt dataframe\u001b[39;00m\n\u001b[32m----> \u001b[39m\u001b[32m2\u001b[39m melted_finance = \u001b[43mfinance\u001b[49m\u001b[43m.\u001b[49m\u001b[43mmelt\u001b[49m\u001b[43m(\u001b[49m\n\u001b[32m      3\u001b[39m \u001b[43m    \u001b[49m\u001b[43mid_vars\u001b[49m\u001b[43m=\u001b[49m\u001b[43m[\u001b[49m\u001b[33;43m'\u001b[39;49m\u001b[33;43mAREA\u001b[39;49m\u001b[33;43m'\u001b[39;49m\u001b[43m]\u001b[49m\u001b[43m,\u001b[49m\u001b[43m \u001b[49m\n\u001b[32m      4\u001b[39m \u001b[43m    \u001b[49m\u001b[43mvalue_vars\u001b[49m\u001b[43m=\u001b[49m\u001b[43m[\u001b[49m\n\u001b[32m      5\u001b[39m \u001b[43m        \u001b[49m\u001b[33;43m'\u001b[39;49m\u001b[33;43mCannot finance improvements (2023)\u001b[39;49m\u001b[33;43m'\u001b[39;49m\u001b[43m,\u001b[49m\n\u001b[32m      6\u001b[39m \u001b[43m        \u001b[49m\u001b[33;43m'\u001b[39;49m\u001b[33;43mCannot finance improvements (2018)\u001b[39;49m\u001b[33;43m'\u001b[39;49m\u001b[43m,\u001b[49m\n\u001b[32m      7\u001b[39m \u001b[43m        \u001b[49m\u001b[33;43m'\u001b[39;49m\u001b[33;43mCannot finance improvements (2013)\u001b[39;49m\u001b[33;43m'\u001b[39;49m\u001b[43m,\u001b[49m\n\u001b[32m      8\u001b[39m \u001b[43m        \u001b[49m\u001b[33;43m'\u001b[39;49m\u001b[33;43mCannot finance improvements (2003)\u001b[39;49m\u001b[33;43m'\u001b[39;49m\n\u001b[32m      9\u001b[39m \u001b[43m    \u001b[49m\u001b[43m]\u001b[49m\u001b[43m,\u001b[49m\n\u001b[32m     10\u001b[39m \u001b[43m    \u001b[49m\u001b[43mvar_name\u001b[49m\u001b[43m=\u001b[49m\u001b[33;43m'\u001b[39;49m\u001b[33;43myear\u001b[39;49m\u001b[33;43m'\u001b[39;49m\u001b[43m,\u001b[49m\n\u001b[32m     11\u001b[39m \u001b[43m    \u001b[49m\u001b[43mvalue_name\u001b[49m\u001b[43m=\u001b[49m\u001b[33;43m'\u001b[39;49m\u001b[33;43mAcres Irrigated\u001b[39;49m\u001b[33;43m'\u001b[39;49m\n\u001b[32m     12\u001b[39m \u001b[43m)\u001b[49m\n\u001b[32m     14\u001b[39m \u001b[38;5;66;03m# Clean the 'year' column to extract just the year (e.g., 2023)\u001b[39;00m\n\u001b[32m     15\u001b[39m melted_finance[\u001b[33m'\u001b[39m\u001b[33myear\u001b[39m\u001b[33m'\u001b[39m] = melted_finance[\u001b[33m'\u001b[39m\u001b[33myear\u001b[39m\u001b[33m'\u001b[39m].str.extract(\u001b[33mr\u001b[39m\u001b[33m'\u001b[39m\u001b[33m(\u001b[39m\u001b[33m\\\u001b[39m\u001b[33md\u001b[39m\u001b[38;5;132;01m{4}\u001b[39;00m\u001b[33m)\u001b[39m\u001b[33m'\u001b[39m).astype(\u001b[38;5;28mint\u001b[39m)\n",
      "\u001b[36mFile \u001b[39m\u001b[32m/Volumes/Mac/opt/anaconda3/envs/aquasteady/lib/python3.13/site-packages/pandas/core/frame.py:9942\u001b[39m, in \u001b[36mDataFrame.melt\u001b[39m\u001b[34m(self, id_vars, value_vars, var_name, value_name, col_level, ignore_index)\u001b[39m\n\u001b[32m   9932\u001b[39m \u001b[38;5;129m@Appender\u001b[39m(_shared_docs[\u001b[33m\"\u001b[39m\u001b[33mmelt\u001b[39m\u001b[33m\"\u001b[39m] % {\u001b[33m\"\u001b[39m\u001b[33mcaller\u001b[39m\u001b[33m\"\u001b[39m: \u001b[33m\"\u001b[39m\u001b[33mdf.melt(\u001b[39m\u001b[33m\"\u001b[39m, \u001b[33m\"\u001b[39m\u001b[33mother\u001b[39m\u001b[33m\"\u001b[39m: \u001b[33m\"\u001b[39m\u001b[33mmelt\u001b[39m\u001b[33m\"\u001b[39m})\n\u001b[32m   9933\u001b[39m \u001b[38;5;28;01mdef\u001b[39;00m\u001b[38;5;250m \u001b[39m\u001b[34mmelt\u001b[39m(\n\u001b[32m   9934\u001b[39m     \u001b[38;5;28mself\u001b[39m,\n\u001b[32m   (...)\u001b[39m\u001b[32m   9940\u001b[39m     ignore_index: \u001b[38;5;28mbool\u001b[39m = \u001b[38;5;28;01mTrue\u001b[39;00m,\n\u001b[32m   9941\u001b[39m ) -> DataFrame:\n\u001b[32m-> \u001b[39m\u001b[32m9942\u001b[39m     \u001b[38;5;28;01mreturn\u001b[39;00m \u001b[43mmelt\u001b[49m\u001b[43m(\u001b[49m\n\u001b[32m   9943\u001b[39m \u001b[43m        \u001b[49m\u001b[38;5;28;43mself\u001b[39;49m\u001b[43m,\u001b[49m\n\u001b[32m   9944\u001b[39m \u001b[43m        \u001b[49m\u001b[43mid_vars\u001b[49m\u001b[43m=\u001b[49m\u001b[43mid_vars\u001b[49m\u001b[43m,\u001b[49m\n\u001b[32m   9945\u001b[39m \u001b[43m        \u001b[49m\u001b[43mvalue_vars\u001b[49m\u001b[43m=\u001b[49m\u001b[43mvalue_vars\u001b[49m\u001b[43m,\u001b[49m\n\u001b[32m   9946\u001b[39m \u001b[43m        \u001b[49m\u001b[43mvar_name\u001b[49m\u001b[43m=\u001b[49m\u001b[43mvar_name\u001b[49m\u001b[43m,\u001b[49m\n\u001b[32m   9947\u001b[39m \u001b[43m        \u001b[49m\u001b[43mvalue_name\u001b[49m\u001b[43m=\u001b[49m\u001b[43mvalue_name\u001b[49m\u001b[43m,\u001b[49m\n\u001b[32m   9948\u001b[39m \u001b[43m        \u001b[49m\u001b[43mcol_level\u001b[49m\u001b[43m=\u001b[49m\u001b[43mcol_level\u001b[49m\u001b[43m,\u001b[49m\n\u001b[32m   9949\u001b[39m \u001b[43m        \u001b[49m\u001b[43mignore_index\u001b[49m\u001b[43m=\u001b[49m\u001b[43mignore_index\u001b[49m\u001b[43m,\u001b[49m\n\u001b[32m   9950\u001b[39m \u001b[43m    \u001b[49m\u001b[43m)\u001b[49m.__finalize__(\u001b[38;5;28mself\u001b[39m, method=\u001b[33m\"\u001b[39m\u001b[33mmelt\u001b[39m\u001b[33m\"\u001b[39m)\n",
      "\u001b[36mFile \u001b[39m\u001b[32m/Volumes/Mac/opt/anaconda3/envs/aquasteady/lib/python3.13/site-packages/pandas/core/reshape/melt.py:54\u001b[39m, in \u001b[36mmelt\u001b[39m\u001b[34m(frame, id_vars, value_vars, var_name, value_name, col_level, ignore_index)\u001b[39m\n\u001b[32m     43\u001b[39m \u001b[38;5;129m@Appender\u001b[39m(_shared_docs[\u001b[33m\"\u001b[39m\u001b[33mmelt\u001b[39m\u001b[33m\"\u001b[39m] % {\u001b[33m\"\u001b[39m\u001b[33mcaller\u001b[39m\u001b[33m\"\u001b[39m: \u001b[33m\"\u001b[39m\u001b[33mpd.melt(df, \u001b[39m\u001b[33m\"\u001b[39m, \u001b[33m\"\u001b[39m\u001b[33mother\u001b[39m\u001b[33m\"\u001b[39m: \u001b[33m\"\u001b[39m\u001b[33mDataFrame.melt\u001b[39m\u001b[33m\"\u001b[39m})\n\u001b[32m     44\u001b[39m \u001b[38;5;28;01mdef\u001b[39;00m\u001b[38;5;250m \u001b[39m\u001b[34mmelt\u001b[39m(\n\u001b[32m     45\u001b[39m     frame: DataFrame,\n\u001b[32m   (...)\u001b[39m\u001b[32m     51\u001b[39m     ignore_index: \u001b[38;5;28mbool\u001b[39m = \u001b[38;5;28;01mTrue\u001b[39;00m,\n\u001b[32m     52\u001b[39m ) -> DataFrame:\n\u001b[32m     53\u001b[39m     \u001b[38;5;28;01mif\u001b[39;00m value_name \u001b[38;5;129;01min\u001b[39;00m frame.columns:\n\u001b[32m---> \u001b[39m\u001b[32m54\u001b[39m         \u001b[38;5;28;01mraise\u001b[39;00m \u001b[38;5;167;01mValueError\u001b[39;00m(\n\u001b[32m     55\u001b[39m             \u001b[33mf\u001b[39m\u001b[33m\"\u001b[39m\u001b[33mvalue_name (\u001b[39m\u001b[38;5;132;01m{\u001b[39;00mvalue_name\u001b[38;5;132;01m}\u001b[39;00m\u001b[33m) cannot match an element in \u001b[39m\u001b[33m\"\u001b[39m\n\u001b[32m     56\u001b[39m             \u001b[33m\"\u001b[39m\u001b[33mthe DataFrame columns.\u001b[39m\u001b[33m\"\u001b[39m\n\u001b[32m     57\u001b[39m         )\n\u001b[32m     58\u001b[39m     id_vars = ensure_list_vars(id_vars, \u001b[33m\"\u001b[39m\u001b[33mid_vars\u001b[39m\u001b[33m\"\u001b[39m, frame.columns)\n\u001b[32m     59\u001b[39m     value_vars_was_not_none = value_vars \u001b[38;5;129;01mis\u001b[39;00m \u001b[38;5;129;01mnot\u001b[39;00m \u001b[38;5;28;01mNone\u001b[39;00m\n",
      "\u001b[31mValueError\u001b[39m: value_name (Acres Irrigated) cannot match an element in the DataFrame columns."
     ]
    }
   ],
   "source": [
    "# Melt dataframe\n",
    "melted_finance = finance.melt(\n",
    "    id_vars=['AREA'], \n",
    "    value_vars=[\n",
    "        'Cannot finance improvements (2023)',\n",
    "        'Cannot finance improvements (2018)',\n",
    "        'Cannot finance improvements (2013)',\n",
    "        'Cannot finance improvements (2003)'\n",
    "    ],\n",
    "    var_name='year',\n",
    "    value_name='Acres Irrigated'\n",
    ")\n",
    "\n",
    "# Clean the 'year' column to extract just the year (e.g., 2023)\n",
    "melted_finance['year'] = melted_finance['year'].str.extract(r'(\\d{4})').astype(int)\n",
    "\n",
    "# Optional: Add a placeholder 'id' column if needed (like in us-population)\n",
    "melted_finance['id'] = range(1, len(melted_finance) + 1)\n",
    "\n",
    "# Reorder columns to match us-population structure\n",
    "finance = melted_finance[['AREA', 'year', 'Acres Irrigated', 'id']]"
   ]
  },
  {
   "cell_type": "code",
   "execution_count": 29,
   "id": "de2abc95-6296-4a7a-b1a4-055092e6f0aa",
   "metadata": {},
   "outputs": [
    {
     "name": "stdout",
     "output_type": "stream",
     "text": [
      "            AREA  year  Acres Irrigated  id\n",
      "0  United States  2023          8636826   1\n",
      "1        Alabama  2023            27342   2\n",
      "2         Alaska  2023              162   3\n",
      "3        Arizona  2023           160323   4\n",
      "4       Arkansas  2023           802832   5\n"
     ]
    }
   ],
   "source": [
    "print(finance.head())"
   ]
  },
  {
   "cell_type": "code",
   "execution_count": 33,
   "id": "4a63633e-82c3-4112-abc8-978d69f12cb1",
   "metadata": {},
   "outputs": [],
   "source": [
    "finance.to_csv('finance.csv', index=True)\n",
    "reduced_yield.to_csv('reduced_yield.csv', index=True)"
   ]
  },
  {
   "cell_type": "code",
   "execution_count": null,
   "id": "33cafe1b-57bf-4155-88c3-d045761d61f3",
   "metadata": {},
   "outputs": [],
   "source": []
  }
 ],
 "metadata": {
  "kernelspec": {
   "display_name": "Python 3 (ipykernel)",
   "language": "python",
   "name": "python3"
  },
  "language_info": {
   "codemirror_mode": {
    "name": "ipython",
    "version": 3
   },
   "file_extension": ".py",
   "mimetype": "text/x-python",
   "name": "python",
   "nbconvert_exporter": "python",
   "pygments_lexer": "ipython3",
   "version": "3.13.2"
  }
 },
 "nbformat": 4,
 "nbformat_minor": 5
}
