{
 "cells": [
  {
   "cell_type": "code",
   "execution_count": 3,
   "id": "24c9a6da-da7d-4278-b749-ed15552d57ec",
   "metadata": {},
   "outputs": [],
   "source": [
    "import sys\n",
    "import os\n",
    "import pandas as pd\n",
    "import numpy as np\n",
    "import matplotlib.pyplot as plt\n",
    "import seaborn as sb"
   ]
  },
  {
   "cell_type": "code",
   "execution_count": 2,
   "id": "b8e4b01b-d5e1-4971-9dc7-04c5c2d29c11",
   "metadata": {},
   "outputs": [],
   "source": [
    "#Change to this when you move directories:\n",
    "# os.chdir('/Users/markos98/aquasteady_research')\n",
    "# path = '/Users/markos98/aquasteady/data/'\n",
    "\n",
    "path = '/Users/markos98/aquasteady_research/data/raw/'"
   ]
  },
  {
   "cell_type": "markdown",
   "id": "3c6b48e3-edf0-494d-863f-a129b02288e0",
   "metadata": {},
   "source": [
    "### Importing and cleaning the data."
   ]
  },
  {
   "cell_type": "code",
   "execution_count": 3,
   "id": "363c5ba5-0f2e-4061-99b2-f5b6fa3d8c08",
   "metadata": {},
   "outputs": [],
   "source": [
    "df23 = pd.read_csv(path + 'irrigation data 2023.csv')\n",
    "df18 = pd.read_csv(path + 'irrigation data 2018.csv')\n",
    "df13 = pd.read_csv(path + 'irrigation data 2013.csv')\n",
    "df08 = pd.read_csv(path + 'irrigation data 2008.csv')"
   ]
  },
  {
   "cell_type": "code",
   "execution_count": 4,
   "id": "6a0f1d15-a9c7-4b71-a38a-1e27fc9b1844",
   "metadata": {},
   "outputs": [],
   "source": [
    "cols = df23.columns[1:51]\n",
    "for col in cols:\n",
    "    df23[col] = df23[col].str.replace(',', '').astype(float)\n",
    "cols = df18.columns[1:51]\n",
    "for col in cols:\n",
    "    df18[col] = df18[col].str.replace(',', '').astype(float)\n",
    "cols = df13.columns[1:51]\n",
    "for col in cols:\n",
    "    df13[col] = df13[col].str.replace(',', '').astype(float)\n",
    "cols = df08.columns[1:51]\n",
    "for col in cols:\n",
    "    df08[col] = df08[col].str.replace(',', '').astype(float)"
   ]
  },
  {
   "cell_type": "code",
   "execution_count": 5,
   "id": "9e7e3854-8cb3-45ae-971e-3ca03574d180",
   "metadata": {},
   "outputs": [],
   "source": [
    "df08.rename(columns={'Acre-feet applied - Investigating improvements\\rnot a priority': \n",
    "                     'Acre-feet applied - Investigating improvements not a priority'}, inplace=True)\n",
    "df08.rename(columns={'Farms - Investigating improvements\\rnot a priority': \n",
    "                     'Acre-feet applied - Investigating improvements not a priority'}, inplace=True)\n",
    "df08.rename(columns={'Acres irrigated - Investigating improvements\\rnot a priority': \n",
    "                     'Acres irrigated - Investigating improvements not a priority'}, inplace=True)\n",
    "df13.rename(columns={'Farms - Investigating improvements\\rnot a priority': \n",
    "                     'Farms - Investigating improvements not a priority'}, inplace=True)\n",
    "df13.rename(columns={'Acres irrigated - Investigating improvements\\rnot a priority': \n",
    "                     'Acres irrigated - Investigating improvements not a priority'}, inplace=True)\n",
    "df13.rename(columns={'Acre-feet applied - Investigating improvements\\rnot a priority': \n",
    "                     'Acre-feet applied - Investigating improvements not a priority'}, inplace=True)\n",
    "df18.rename(columns={'Farms - Investigating improvements\\rnot a priority': \n",
    "                     'Farms - Investigating improvements not a priority'}, inplace=True)\n",
    "df18.rename(columns={'Acres irrigated - Investigating improvements\\rnot a priority': \n",
    "                     'Acres irrigated - Investigating improvements not a priority'}, inplace=True)\n",
    "df18.rename(columns={'Acre-feet applied - Investigating improvements\\rnot a priority': \n",
    "                     'Acre-feet applied - Investigating improvements not a priority'}, inplace=True)\n",
    "df23.rename(columns={'Farms - Investigating improvements\\rnot a priority': \n",
    "                     'Farms - Investigating improvements not a priority'}, inplace=True)\n",
    "df23.rename(columns={'Acres irrigated - Investigating improvements\\rnot a priority': \n",
    "                     'Acres irrigated - Investigating improvements not a priority'}, inplace=True)\n",
    "df23.rename(columns={'Acre-feet applied - Investigating improvements\\rnot a priority': \n",
    "                     'Acre-feet applied - Investigating improvements not a priority'}, inplace=True)"
   ]
  },
  {
   "cell_type": "code",
   "execution_count": 6,
   "id": "313da0c4-67c9-4e47-a606-a1663713403e",
   "metadata": {},
   "outputs": [],
   "source": [
    "df23 = df23.loc[:, ~df23.columns.duplicated()]\n",
    "df18 = df18.loc[:, ~df18.columns.duplicated()]\n",
    "df13 = df13.loc[:, ~df13.columns.duplicated()]\n",
    "df08 = df08.loc[:, ~df08.columns.duplicated()]"
   ]
  },
  {
   "cell_type": "markdown",
   "id": "29619f76-a581-422c-bdfe-6301dcfd1d17",
   "metadata": {},
   "source": [
    "### Using acres irrigated as my metric and filtering. "
   ]
  },
  {
   "cell_type": "code",
   "execution_count": 7,
   "id": "899628ca-390e-4f12-b6de-698b60d575bf",
   "metadata": {},
   "outputs": [],
   "source": [
    "df23 = df23.filter(['AREA',\n",
    "                        'Acres irrigated - Improvements will not reduce costs enough to cover implementation costs',\n",
    "                        'Acres irrigated - Investigating improvements not a priority',\n",
    "                        'Acres irrigated - Risk of reduced yield or poorer crop quality',\n",
    "                        'Acres irrigated - Physical field or crop conditions limit system improvements',\n",
    "                       'Acres irrigated - Cannot finance improvements',\n",
    "                        'Acres irrigated - Landlord will not share in cost',\n",
    "                       'Acres irrigated - Uncertainty about future availability of water',\n",
    "                        'Acres irrigated - Will not be farming this operation long enough to justify improvements'], axis=1)\n",
    "df18 = df18.filter(['AREA',\n",
    "                        'Acres irrigated - Improvements will not reduce costs enough to cover implementation costs',\n",
    "                        'Acres irrigated - Investigating improvements not a priority',\n",
    "                        'Acres irrigated - Risk of reduced yield or poorer crop quality',\n",
    "                        'Acres irrigated - Physical field or crop conditions limit system improvements',\n",
    "                       'Acres irrigated - Cannot finance improvements',\n",
    "                        'Acres irrigated - Landlord will not share in cost',\n",
    "                       'Acres irrigated - Uncertainty about future availability of water',\n",
    "                        'Acres irrigated - Will not be farming this operation long enough to justify improvements'], axis=1)\n",
    "df13 = df13.filter(['AREA',\n",
    "                        'Acres irrigated - Improvements will not reduce costs enough to cover implementation costs',\n",
    "                        'Acres irrigated - Investigating improvements not a priority',\n",
    "                        'Acres irrigated - Risk of reduced yield or poorer crop quality',\n",
    "                        'Acres irrigated - Physical field or crop conditions limit system improvements',\n",
    "                       'Acres irrigated - Cannot finance improvements',\n",
    "                        'Acres irrigated - Landlord will not share in cost',\n",
    "                       'Acres irrigated - Uncertainty about future availability of water',\n",
    "                        'Acres irrigated - Will not be farming this operation long enough to justify improvements'], axis=1)\n",
    "df03 = df08.filter(['AREA',\n",
    "                        'Acres irrigated - Improvements will increase management time or cost',\n",
    "                        'Acres irrigated - Investigating improvements not a priority',\n",
    "                        'Acres irrigated - Risk of reduced yield or poorer crop quality',\n",
    "                        'Acres irrigated - Physical field or crop conditions limit system improvements',\n",
    "                       'Acres irrigated - Cannot finance improvements',\n",
    "                        'Acres irrigated - Landlord will not share in cost',\n",
    "                       'Acres irrigated - Uncertainty about future availability of water',\n",
    "                        'Acres irrigated - Will not be farming this operation long enough to justify improvements'], axis=1)"
   ]
  },
  {
   "cell_type": "code",
   "execution_count": 8,
   "id": "af1bda7c-9b1a-4d5e-99d5-9da5d1c92bc6",
   "metadata": {},
   "outputs": [],
   "source": [
    "df23.columns = df23.columns.str.replace('Acres irrigated - ', '')\n",
    "df18.columns = df18.columns.str.replace('Acres irrigated - ', '')\n",
    "df13.columns = df13.columns.str.replace('Acres irrigated - ', '')\n",
    "df03.columns = df03.columns.str.replace('Acres irrigated - ', '')"
   ]
  },
  {
   "cell_type": "code",
   "execution_count": 9,
   "id": "99fa8b33-feb2-4952-976f-cd62582163d7",
   "metadata": {},
   "outputs": [],
   "source": [
    "# df23.columns = df23.columns.str.replace('(2023)', '')"
   ]
  },
  {
   "cell_type": "markdown",
   "id": "241e3601-1ccd-4617-9129-b792c3fcd18f",
   "metadata": {},
   "source": [
    "### Joining dataframes for both features and for states."
   ]
  },
  {
   "cell_type": "code",
   "execution_count": 10,
   "id": "e1d9d736-9a5a-477a-a312-ff4ace805618",
   "metadata": {},
   "outputs": [],
   "source": [
    "features23 = df23.rename(columns=lambda x: x + \" (2023)\" if x != df23.columns[0] else x)\n",
    "features18 = df18.rename(columns=lambda x: x + \" (2018)\" if x != df18.columns[0] else x)\n",
    "features13 = df13.rename(columns=lambda x: x + \" (2013)\" if x != df13.columns[0] else x)\n",
    "features03 = df03.rename(columns=lambda x: x + \" (2003)\" if x != df03.columns[0] else x)"
   ]
  },
  {
   "cell_type": "code",
   "execution_count": 11,
   "id": "f0fd9a9d-d3df-49cb-bab1-2968997c4c74",
   "metadata": {},
   "outputs": [],
   "source": [
    "# setting 'area' as index\n",
    "features23 = features23.set_index('AREA')\n",
    "features18 = features18.set_index('AREA')\n",
    "features13 = features13.set_index('AREA')\n",
    "features03 = features03.set_index('AREA')\n",
    "\n",
    "# merge\n",
    "features_all = features23.join([features18, features13, features03], how='outer')"
   ]
  },
  {
   "cell_type": "code",
   "execution_count": 12,
   "id": "da895895-f73c-48f7-b938-4aa95962522c",
   "metadata": {},
   "outputs": [],
   "source": [
    "features_all.to_csv('features_merged.csv', index=True)\n",
    "features23.to_csv('features23.csv', index=True)\n",
    "\n",
    "transformed_path = '/Users/markos98/aquasteady_research/data/transformed/'"
   ]
  },
  {
   "cell_type": "code",
   "execution_count": 13,
   "id": "03b6fb64-aff1-4dd1-b1a9-3fab442503a1",
   "metadata": {},
   "outputs": [],
   "source": [
    "# Reimporting after some cleaning in openrefine\n",
    "\n",
    "features_all = pd.read_csv(transformed_path + 'features.csv')\n",
    "features23 = pd.read_csv(transformed_path + 'features23.csv')"
   ]
  },
  {
   "cell_type": "markdown",
   "id": "06a04a17-dc47-466d-926f-a7ea6e816489",
   "metadata": {},
   "source": [
    "### Transposing dataframes to get regions as my target."
   ]
  },
  {
   "cell_type": "code",
   "execution_count": 14,
   "id": "e8eae07d-97c8-4e30-ae2f-4f6e2a152f5a",
   "metadata": {},
   "outputs": [],
   "source": [
    "# Now for the same process but for states\n",
    "\n",
    "states23 = df23.transpose()\n",
    "states23.columns = states23.iloc[0]\n",
    "states23 = states23.iloc[1:]\n",
    "states23.index.name = 'IMPEDIMENT' \n",
    "\n",
    "states18 = df18.transpose()\n",
    "states18.columns = states18.iloc[0]\n",
    "states18 = states18.iloc[1:]\n",
    "states18.index.name = 'IMPEDIMENT' \n",
    "\n",
    "states13 = df13.transpose()\n",
    "states13.columns = states13.iloc[0]\n",
    "states13 = states13.iloc[1:]\n",
    "states13.index.name = 'IMPEDIMENT' \n",
    "\n",
    "states03 = df03.transpose()\n",
    "states03.columns = states03.iloc[0]\n",
    "states03 = states03.iloc[1:]\n",
    "states03.index.name = 'IMPEDIMENT' "
   ]
  },
  {
   "cell_type": "code",
   "execution_count": 17,
   "id": "57fb4713-d41e-44cd-a792-1a121748ff4c",
   "metadata": {},
   "outputs": [],
   "source": [
    "states23 = states23.drop('United States', axis=1)"
   ]
  },
  {
   "cell_type": "code",
   "execution_count": 18,
   "id": "88eec88f-e6a5-4a78-9647-741b4893f885",
   "metadata": {},
   "outputs": [],
   "source": [
    "states23.to_csv('states23.csv', index=True)"
   ]
  },
  {
   "cell_type": "code",
   "execution_count": 21,
   "id": "7f1219ca-05b9-47c5-86a2-3531a5c33163",
   "metadata": {},
   "outputs": [],
   "source": [
    "states23 = states23.rename(columns=lambda x: x + \" (2023)\" if x != df23.columns[0] else x)\n",
    "states18 = states18.rename(columns=lambda x: x + \" (2018)\" if x != df18.columns[0] else x)\n",
    "states13 = states13.rename(columns=lambda x: x + \" (2013)\" if x != df13.columns[0] else x)\n",
    "states03 = states03.rename(columns=lambda x: x + \" (2003)\" if x != df03.columns[0] else x)"
   ]
  },
  {
   "cell_type": "code",
   "execution_count": 22,
   "id": "fd8d4a01-2274-4f17-a28a-82de55c322a9",
   "metadata": {},
   "outputs": [],
   "source": [
    "states_all = states23.join([states18, states13, states03], how='outer')\n",
    "\n",
    "states_all.to_csv('states_peek.csv', index=True)"
   ]
  },
  {
   "cell_type": "code",
   "execution_count": 23,
   "id": "69873796-cd32-48f2-86e7-0d4e05c30e51",
   "metadata": {},
   "outputs": [],
   "source": [
    "# Retrived from OpenRefine with just the regions\n",
    "\n",
    "regions = pd.read_csv(transformed_path + 'regions.csv')\n",
    "regions = regions.set_index('IMPEDIMENT')"
   ]
  },
  {
   "cell_type": "markdown",
   "id": "11840fb9-e5d3-405e-a19b-f641d13672ab",
   "metadata": {},
   "source": [
    "#### Making a new dataframe for streamlit dashboard"
   ]
  },
  {
   "cell_type": "code",
   "execution_count": 4,
   "id": "bcaf5648-6b9e-45b7-a030-adf53597349d",
   "metadata": {},
   "outputs": [],
   "source": [
    "transformed_path = '/Users/markos98/aquasteady_research/data/transformed/'"
   ]
  },
  {
   "cell_type": "code",
   "execution_count": 5,
   "id": "0a0d7f39-6df0-47e8-bfbc-7cb2b1335c80",
   "metadata": {},
   "outputs": [],
   "source": [
    "dashboard = pd.read_csv(transformed_path + 'features_merged.csv')"
   ]
  },
  {
   "cell_type": "code",
   "execution_count": 6,
   "id": "4dbf0bee-20d0-437a-867f-866280580f41",
   "metadata": {},
   "outputs": [],
   "source": [
    "reduced_yield_cols = [col for col in dashboard.columns if 'reduced yield' in col.lower()]\n",
    "\n",
    "reduced_yield_cols = ['AREA'] + reduced_yield_cols\n",
    "\n",
    "reduced_yield = dashboard[reduced_yield_cols]"
   ]
  },
  {
   "cell_type": "code",
   "execution_count": 7,
   "id": "2fb4b269-9b31-4492-a8f0-8f25dd1cb88f",
   "metadata": {},
   "outputs": [
    {
     "data": {
      "text/html": [
       "<div>\n",
       "<style scoped>\n",
       "    .dataframe tbody tr th:only-of-type {\n",
       "        vertical-align: middle;\n",
       "    }\n",
       "\n",
       "    .dataframe tbody tr th {\n",
       "        vertical-align: top;\n",
       "    }\n",
       "\n",
       "    .dataframe thead th {\n",
       "        text-align: right;\n",
       "    }\n",
       "</style>\n",
       "<table border=\"1\" class=\"dataframe\">\n",
       "  <thead>\n",
       "    <tr style=\"text-align: right;\">\n",
       "      <th></th>\n",
       "      <th>AREA</th>\n",
       "      <th>Risk of reduced yield or poorer crop quality (2023)</th>\n",
       "      <th>Risk of reduced yield or poorer crop quality (2018)</th>\n",
       "      <th>Risk of reduced yield or poorer crop quality (2013)</th>\n",
       "      <th>Risk of reduced yield or poorer crop quality (2003)</th>\n",
       "    </tr>\n",
       "  </thead>\n",
       "  <tbody>\n",
       "    <tr>\n",
       "      <th>0</th>\n",
       "      <td>United States</td>\n",
       "      <td>6367477.0</td>\n",
       "      <td>5698594</td>\n",
       "      <td>5208860.0</td>\n",
       "      <td>4708089.0</td>\n",
       "    </tr>\n",
       "    <tr>\n",
       "      <th>1</th>\n",
       "      <td>Alabama</td>\n",
       "      <td>17730.0</td>\n",
       "      <td>10906</td>\n",
       "      <td>7215.0</td>\n",
       "      <td>7593.0</td>\n",
       "    </tr>\n",
       "    <tr>\n",
       "      <th>2</th>\n",
       "      <td>Alaska</td>\n",
       "      <td>122.0</td>\n",
       "      <td>21</td>\n",
       "      <td>40.0</td>\n",
       "      <td>NaN</td>\n",
       "    </tr>\n",
       "    <tr>\n",
       "      <th>3</th>\n",
       "      <td>Arizona</td>\n",
       "      <td>150187.0</td>\n",
       "      <td>128561</td>\n",
       "      <td>67194.0</td>\n",
       "      <td>43359.0</td>\n",
       "    </tr>\n",
       "    <tr>\n",
       "      <th>4</th>\n",
       "      <td>Arkansas</td>\n",
       "      <td>424880.0</td>\n",
       "      <td>368362</td>\n",
       "      <td>383750.0</td>\n",
       "      <td>363468.0</td>\n",
       "    </tr>\n",
       "  </tbody>\n",
       "</table>\n",
       "</div>"
      ],
      "text/plain": [
       "            AREA  Risk of reduced yield or poorer crop quality (2023)  \\\n",
       "0  United States                                          6367477.0     \n",
       "1        Alabama                                            17730.0     \n",
       "2         Alaska                                              122.0     \n",
       "3        Arizona                                           150187.0     \n",
       "4       Arkansas                                           424880.0     \n",
       "\n",
       "   Risk of reduced yield or poorer crop quality (2018)  \\\n",
       "0                                            5698594     \n",
       "1                                              10906     \n",
       "2                                                 21     \n",
       "3                                             128561     \n",
       "4                                             368362     \n",
       "\n",
       "   Risk of reduced yield or poorer crop quality (2013)  \\\n",
       "0                                          5208860.0     \n",
       "1                                             7215.0     \n",
       "2                                               40.0     \n",
       "3                                            67194.0     \n",
       "4                                           383750.0     \n",
       "\n",
       "   Risk of reduced yield or poorer crop quality (2003)  \n",
       "0                                          4708089.0    \n",
       "1                                             7593.0    \n",
       "2                                                NaN    \n",
       "3                                            43359.0    \n",
       "4                                           363468.0    "
      ]
     },
     "execution_count": 7,
     "metadata": {},
     "output_type": "execute_result"
    }
   ],
   "source": [
    "reduced_yield.head()"
   ]
  },
  {
   "cell_type": "code",
   "execution_count": 8,
   "id": "8eed7467-c91b-4385-b3d0-52791eabeb29",
   "metadata": {},
   "outputs": [],
   "source": [
    "# Melt dataframe\n",
    "melted_reduced_yield = reduced_yield.melt(\n",
    "    id_vars=['AREA'], \n",
    "    value_vars=[\n",
    "        'Risk of reduced yield or poorer crop quality (2023)',\n",
    "        'Risk of reduced yield or poorer crop quality (2018)',\n",
    "        'Risk of reduced yield or poorer crop quality (2013)',\n",
    "        'Risk of reduced yield or poorer crop quality (2003)'\n",
    "    ],\n",
    "    var_name='year',\n",
    "    value_name='Acres Irrigated'\n",
    ")\n",
    "\n",
    "# Clean the 'year' column to extract just the year (e.g., 2023)\n",
    "melted_reduced_yield['year'] = melted_reduced_yield['year'].str.extract(r'(\\d{4})').astype(int)\n",
    "\n",
    "# Optional: Add a placeholder 'id' column if needed (like in us-population)\n",
    "melted_reduced_yield['id'] = range(1, len(melted_reduced_yield) + 1)\n",
    "\n",
    "# Reorder columns to match us-population structure\n",
    "reduced_yield = melted_reduced_yield[['AREA', 'year', 'Acres Irrigated', 'id']]"
   ]
  },
  {
   "cell_type": "code",
   "execution_count": 9,
   "id": "72f1fd86-aa7f-4583-ab9d-1c128b8740c7",
   "metadata": {},
   "outputs": [],
   "source": [
    "yield_regions = reduced_yield[reduced_yield['AREA'].str.contains('Region', case=False)]\n",
    "yield_states = reduced_yield[~reduced_yield['AREA'].str.contains('United States')]\n",
    "yield_states = yield_states[~yield_states['AREA'].str.contains('Region')]"
   ]
  },
  {
   "cell_type": "code",
   "execution_count": 10,
   "id": "2ecdcd6b-224a-4059-97fc-108f64cccbdf",
   "metadata": {},
   "outputs": [],
   "source": [
    "STATE_CODES = {\n",
    "    'Alabama': 'AL', 'Alaska': 'AK', 'Arizona': 'AZ', 'Arkansas': 'AR',\n",
    "    'California': 'CA', 'Colorado': 'CO', 'Connecticut': 'CT', 'Delaware': 'DE',\n",
    "    'Florida': 'FL', 'Georgia': 'GA', 'Hawaii': 'HI', 'Idaho': 'ID',\n",
    "    'Illinois': 'IL', 'Indiana': 'IN', 'Iowa': 'IA', 'Kansas': 'KS',\n",
    "    'Kentucky': 'KY', 'Louisiana': 'LA', 'Maine': 'ME', 'Maryland': 'MD',\n",
    "    'Massachusetts': 'MA', 'Michigan': 'MI', 'Minnesota': 'MN', 'Mississippi': 'MS',\n",
    "    'Missouri': 'MO', 'Montana': 'MT', 'Nebraska': 'NE', 'Nevada': 'NV',\n",
    "    'New Hampshire': 'NH', 'New Jersey': 'NJ', 'New Mexico': 'NM', 'New York': 'NY',\n",
    "    'North Carolina': 'NC', 'North Dakota': 'ND', 'Ohio': 'OH', 'Oklahoma': 'OK',\n",
    "    'Oregon': 'OR', 'Pennsylvania': 'PA', 'Rhode Island': 'RI', 'South Carolina': 'SC',\n",
    "    'South Dakota': 'SD', 'Tennessee': 'TN', 'Texas': 'TX', 'Utah': 'UT',\n",
    "    'Vermont': 'VT', 'Virginia': 'VA', 'Washington': 'WA', 'West Virginia': 'WV',\n",
    "    'Wisconsin': 'WI', 'Wyoming': 'WY', 'Puerto Rico': 'PR'\n",
    "}\n",
    "\n",
    "# Add the state_code column to your DataFrame\n",
    "yield_states['state_code'] = yield_states['AREA'].map(STATE_CODES)"
   ]
  },
  {
   "cell_type": "code",
   "execution_count": 11,
   "id": "c0617766-9660-404d-bb5d-e1bef080265d",
   "metadata": {},
   "outputs": [
    {
     "data": {
      "text/html": [
       "<div>\n",
       "<style scoped>\n",
       "    .dataframe tbody tr th:only-of-type {\n",
       "        vertical-align: middle;\n",
       "    }\n",
       "\n",
       "    .dataframe tbody tr th {\n",
       "        vertical-align: top;\n",
       "    }\n",
       "\n",
       "    .dataframe thead th {\n",
       "        text-align: right;\n",
       "    }\n",
       "</style>\n",
       "<table border=\"1\" class=\"dataframe\">\n",
       "  <thead>\n",
       "    <tr style=\"text-align: right;\">\n",
       "      <th></th>\n",
       "      <th>AREA</th>\n",
       "      <th>year</th>\n",
       "      <th>Acres Irrigated</th>\n",
       "      <th>id</th>\n",
       "      <th>state_code</th>\n",
       "    </tr>\n",
       "  </thead>\n",
       "  <tbody>\n",
       "    <tr>\n",
       "      <th>1</th>\n",
       "      <td>Alabama</td>\n",
       "      <td>2023</td>\n",
       "      <td>17730.0</td>\n",
       "      <td>2</td>\n",
       "      <td>AL</td>\n",
       "    </tr>\n",
       "    <tr>\n",
       "      <th>2</th>\n",
       "      <td>Alaska</td>\n",
       "      <td>2023</td>\n",
       "      <td>122.0</td>\n",
       "      <td>3</td>\n",
       "      <td>AK</td>\n",
       "    </tr>\n",
       "    <tr>\n",
       "      <th>3</th>\n",
       "      <td>Arizona</td>\n",
       "      <td>2023</td>\n",
       "      <td>150187.0</td>\n",
       "      <td>4</td>\n",
       "      <td>AZ</td>\n",
       "    </tr>\n",
       "    <tr>\n",
       "      <th>4</th>\n",
       "      <td>Arkansas</td>\n",
       "      <td>2023</td>\n",
       "      <td>424880.0</td>\n",
       "      <td>5</td>\n",
       "      <td>AR</td>\n",
       "    </tr>\n",
       "    <tr>\n",
       "      <th>5</th>\n",
       "      <td>California</td>\n",
       "      <td>2023</td>\n",
       "      <td>1138629.0</td>\n",
       "      <td>6</td>\n",
       "      <td>CA</td>\n",
       "    </tr>\n",
       "  </tbody>\n",
       "</table>\n",
       "</div>"
      ],
      "text/plain": [
       "         AREA  year  Acres Irrigated  id state_code\n",
       "1     Alabama  2023          17730.0   2         AL\n",
       "2      Alaska  2023            122.0   3         AK\n",
       "3     Arizona  2023         150187.0   4         AZ\n",
       "4    Arkansas  2023         424880.0   5         AR\n",
       "5  California  2023        1138629.0   6         CA"
      ]
     },
     "execution_count": 11,
     "metadata": {},
     "output_type": "execute_result"
    }
   ],
   "source": [
    "yield_states.head()"
   ]
  },
  {
   "cell_type": "code",
   "execution_count": 12,
   "id": "5b1007c4-9636-4d3f-905f-911e04d29d21",
   "metadata": {},
   "outputs": [],
   "source": [
    "finance_cols = [col for col in dashboard.columns if 'finance' in col.lower()]\n",
    "\n",
    "finance_cols = ['AREA'] + finance_cols\n",
    "\n",
    "finance = dashboard[finance_cols]"
   ]
  },
  {
   "cell_type": "code",
   "execution_count": 13,
   "id": "eb4795eb-ddb9-4a2c-9d50-44b63aee1104",
   "metadata": {},
   "outputs": [],
   "source": [
    "# Melt dataframe\n",
    "melted_finance = finance.melt(\n",
    "    id_vars=['AREA'], \n",
    "    value_vars=[\n",
    "        'Cannot finance improvements (2023)',\n",
    "        'Cannot finance improvements (2018)',\n",
    "        'Cannot finance improvements (2013)',\n",
    "        'Cannot finance improvements (2003)'\n",
    "    ],\n",
    "    var_name='year',\n",
    "    value_name='Acres Irrigated'\n",
    ")\n",
    "\n",
    "# Clean the 'year' column to extract just the year (e.g., 2023)\n",
    "melted_finance['year'] = melted_finance['year'].str.extract(r'(\\d{4})').astype(int)\n",
    "\n",
    "# Optional: Add a placeholder 'id' column if needed (like in us-population)\n",
    "melted_finance['id'] = range(1, len(melted_finance) + 1)\n",
    "\n",
    "# Reorder columns to match us-population structure\n",
    "finance = melted_finance[['AREA', 'year', 'Acres Irrigated', 'id']]"
   ]
  },
  {
   "cell_type": "code",
   "execution_count": 14,
   "id": "a7f6ee63-0f09-476b-8e15-2e783b21f00e",
   "metadata": {},
   "outputs": [],
   "source": [
    "finance_regions = finance[finance['AREA'].str.contains('Region', case=False)]\n",
    "finance_states = finance[~finance['AREA'].str.contains('United States')]\n",
    "finance_states = finance_states[~finance_states['AREA'].str.contains('Region')]"
   ]
  },
  {
   "cell_type": "code",
   "execution_count": 15,
   "id": "8d89118c-67dc-477d-8b81-6f5405bb1e07",
   "metadata": {},
   "outputs": [],
   "source": [
    "# Add the state_code column to your DataFrame\n",
    "finance_states['state_code'] = finance_states['AREA'].map(STATE_CODES)"
   ]
  },
  {
   "cell_type": "code",
   "execution_count": 16,
   "id": "de2abc95-6296-4a7a-b1a4-055092e6f0aa",
   "metadata": {},
   "outputs": [
    {
     "name": "stdout",
     "output_type": "stream",
     "text": [
      "         AREA  year  Acres Irrigated  id state_code\n",
      "1     Alabama  2023            27342   2         AL\n",
      "2      Alaska  2023              162   3         AK\n",
      "3     Arizona  2023           160323   4         AZ\n",
      "4    Arkansas  2023           802832   5         AR\n",
      "5  California  2023          1401889   6         CA\n"
     ]
    }
   ],
   "source": [
    "print(finance_states.head())"
   ]
  },
  {
   "cell_type": "code",
   "execution_count": 17,
   "id": "4a63633e-82c3-4112-abc8-978d69f12cb1",
   "metadata": {},
   "outputs": [],
   "source": [
    "finance_states.to_csv('finance_states.csv', index=True)\n",
    "yield_regions.to_csv('yield_regions.csv', index=True)\n",
    "finance_regions.to_csv('finance_regions.csv', index=True)\n",
    "yield_states.to_csv('yield_states.csv', index=True)"
   ]
  },
  {
   "cell_type": "markdown",
   "id": "bd02d3f5-98ef-4ce5-9321-cf3331590554",
   "metadata": {},
   "source": [
    "### Melting new USDA csv for spatial analysis"
   ]
  },
  {
   "cell_type": "code",
   "execution_count": 17,
   "id": "b106cc25-a967-40d5-a3cc-13799ffb9c25",
   "metadata": {},
   "outputs": [],
   "source": [
    "usda = pd.read_csv(path + \"USDA_CA.csv\")"
   ]
  },
  {
   "cell_type": "code",
   "execution_count": 18,
   "id": "5e4d362d-d506-46b0-9ca1-763e44dc13dd",
   "metadata": {},
   "outputs": [],
   "source": [
    "usda = usda.T"
   ]
  },
  {
   "cell_type": "code",
   "execution_count": 16,
   "id": "d10dd40c-52ae-4900-8242-94d51da22561",
   "metadata": {},
   "outputs": [
    {
     "data": {
      "text/html": [
       "<div>\n",
       "<style scoped>\n",
       "    .dataframe tbody tr th:only-of-type {\n",
       "        vertical-align: middle;\n",
       "    }\n",
       "\n",
       "    .dataframe tbody tr th {\n",
       "        vertical-align: top;\n",
       "    }\n",
       "\n",
       "    .dataframe thead th {\n",
       "        text-align: right;\n",
       "    }\n",
       "</style>\n",
       "<table border=\"1\" class=\"dataframe\">\n",
       "  <thead>\n",
       "    <tr style=\"text-align: right;\">\n",
       "      <th></th>\n",
       "      <th>Year</th>\n",
       "      <th>1</th>\n",
       "      <th>2</th>\n",
       "      <th>3</th>\n",
       "      <th>4</th>\n",
       "      <th>5</th>\n",
       "      <th>6</th>\n",
       "      <th>7</th>\n",
       "      <th>8</th>\n",
       "      <th>9</th>\n",
       "      <th>10</th>\n",
       "      <th>11</th>\n",
       "      <th>12</th>\n",
       "      <th>13</th>\n",
       "      <th>14</th>\n",
       "      <th>15</th>\n",
       "      <th>16</th>\n",
       "      <th>17</th>\n",
       "    </tr>\n",
       "  </thead>\n",
       "  <tbody>\n",
       "    <tr>\n",
       "      <th>LAND USE AND PRACTICES (acres)</th>\n",
       "      <td>NaN</td>\n",
       "      <td>Land in farms</td>\n",
       "      <td>Total cropland</td>\n",
       "      <td>Harvested cropland</td>\n",
       "      <td>Other pasture and grazing land that could have...</td>\n",
       "      <td>Cropland idle or used for cover crops or soil-...</td>\n",
       "      <td>Cropland on which all crops failed or were aba...</td>\n",
       "      <td>Cropland in summer fallow</td>\n",
       "      <td>Total woodland</td>\n",
       "      <td>Woodland pastured</td>\n",
       "      <td>Woodland not pastured</td>\n",
       "      <td>Permanent pasture and rangeland, other than cr...</td>\n",
       "      <td>Land in farmsteads, homes, buildings, livestoc...</td>\n",
       "      <td>Irrigated land</td>\n",
       "      <td>Harvested cropland</td>\n",
       "      <td>Pastureland and other land</td>\n",
       "      <td>Cropland on which no-till practices were used</td>\n",
       "      <td>Cropland on which conservation or reduced till...</td>\n",
       "    </tr>\n",
       "    <tr>\n",
       "      <th>California</th>\n",
       "      <td>2022</td>\n",
       "      <td>24606308</td>\n",
       "      <td>10058472</td>\n",
       "      <td>8065879</td>\n",
       "      <td>437275</td>\n",
       "      <td>859989</td>\n",
       "      <td>205706</td>\n",
       "      <td>489623</td>\n",
       "      <td>1745638</td>\n",
       "      <td>1135017</td>\n",
       "      <td>610621</td>\n",
       "      <td>11297680</td>\n",
       "      <td>1504518</td>\n",
       "      <td>8135688</td>\n",
       "      <td>7697801</td>\n",
       "      <td>437887</td>\n",
       "      <td>227027</td>\n",
       "      <td>802822</td>\n",
       "    </tr>\n",
       "    <tr>\n",
       "      <th>California.1</th>\n",
       "      <td>2017</td>\n",
       "      <td>24953340</td>\n",
       "      <td>9681339</td>\n",
       "      <td>7921391</td>\n",
       "      <td>480088</td>\n",
       "      <td>759079</td>\n",
       "      <td>146821</td>\n",
       "      <td>373960</td>\n",
       "      <td>1915705</td>\n",
       "      <td>1198239</td>\n",
       "      <td>717466</td>\n",
       "      <td>11870021</td>\n",
       "      <td>1486275</td>\n",
       "      <td>7950752</td>\n",
       "      <td>7398701</td>\n",
       "      <td>552051</td>\n",
       "      <td>246871</td>\n",
       "      <td>767120</td>\n",
       "    </tr>\n",
       "    <tr>\n",
       "      <th>H180101</th>\n",
       "      <td>2022</td>\n",
       "      <td>1584901</td>\n",
       "      <td>163380</td>\n",
       "      <td>111505</td>\n",
       "      <td>31937</td>\n",
       "      <td>15490</td>\n",
       "      <td>2696</td>\n",
       "      <td>1752</td>\n",
       "      <td>504906</td>\n",
       "      <td>301798</td>\n",
       "      <td>203108</td>\n",
       "      <td>790958</td>\n",
       "      <td>125657</td>\n",
       "      <td>111897</td>\n",
       "      <td>97786</td>\n",
       "      <td>14111</td>\n",
       "      <td>1732</td>\n",
       "      <td>2502</td>\n",
       "    </tr>\n",
       "    <tr>\n",
       "      <th>H180101.1</th>\n",
       "      <td>2017</td>\n",
       "      <td>1847207</td>\n",
       "      <td>186469</td>\n",
       "      <td>119007</td>\n",
       "      <td>37395</td>\n",
       "      <td>21779</td>\n",
       "      <td>1513</td>\n",
       "      <td>6775</td>\n",
       "      <td>554018</td>\n",
       "      <td>311903</td>\n",
       "      <td>242115</td>\n",
       "      <td>953968</td>\n",
       "      <td>152752</td>\n",
       "      <td>125387</td>\n",
       "      <td>102587</td>\n",
       "      <td>22800</td>\n",
       "      <td>2947</td>\n",
       "      <td>1799</td>\n",
       "    </tr>\n",
       "  </tbody>\n",
       "</table>\n",
       "</div>"
      ],
      "text/plain": [
       "                                Year              1               2  \\\n",
       "LAND USE AND PRACTICES (acres)   NaN  Land in farms  Total cropland   \n",
       "California                      2022       24606308        10058472   \n",
       "California.1                    2017       24953340         9681339   \n",
       "H180101                         2022        1584901          163380   \n",
       "H180101.1                       2017        1847207          186469   \n",
       "\n",
       "                                                 3  \\\n",
       "LAND USE AND PRACTICES (acres)  Harvested cropland   \n",
       "California                                 8065879   \n",
       "California.1                               7921391   \n",
       "H180101                                     111505   \n",
       "H180101.1                                   119007   \n",
       "\n",
       "                                                                                4  \\\n",
       "LAND USE AND PRACTICES (acres)  Other pasture and grazing land that could have...   \n",
       "California                                                                 437275   \n",
       "California.1                                                               480088   \n",
       "H180101                                                                     31937   \n",
       "H180101.1                                                                   37395   \n",
       "\n",
       "                                                                                5  \\\n",
       "LAND USE AND PRACTICES (acres)  Cropland idle or used for cover crops or soil-...   \n",
       "California                                                                 859989   \n",
       "California.1                                                               759079   \n",
       "H180101                                                                     15490   \n",
       "H180101.1                                                                   21779   \n",
       "\n",
       "                                                                                6  \\\n",
       "LAND USE AND PRACTICES (acres)  Cropland on which all crops failed or were aba...   \n",
       "California                                                                 205706   \n",
       "California.1                                                               146821   \n",
       "H180101                                                                      2696   \n",
       "H180101.1                                                                    1513   \n",
       "\n",
       "                                                        7               8  \\\n",
       "LAND USE AND PRACTICES (acres)  Cropland in summer fallow  Total woodland   \n",
       "California                                         489623         1745638   \n",
       "California.1                                       373960         1915705   \n",
       "H180101                                              1752          504906   \n",
       "H180101.1                                            6775          554018   \n",
       "\n",
       "                                                9                     10  \\\n",
       "LAND USE AND PRACTICES (acres)  Woodland pastured  Woodland not pastured   \n",
       "California                                1135017                 610621   \n",
       "California.1                              1198239                 717466   \n",
       "H180101                                    301798                 203108   \n",
       "H180101.1                                  311903                 242115   \n",
       "\n",
       "                                                                               11  \\\n",
       "LAND USE AND PRACTICES (acres)  Permanent pasture and rangeland, other than cr...   \n",
       "California                                                               11297680   \n",
       "California.1                                                             11870021   \n",
       "H180101                                                                    790958   \n",
       "H180101.1                                                                  953968   \n",
       "\n",
       "                                                                               12  \\\n",
       "LAND USE AND PRACTICES (acres)  Land in farmsteads, homes, buildings, livestoc...   \n",
       "California                                                                1504518   \n",
       "California.1                                                              1486275   \n",
       "H180101                                                                    125657   \n",
       "H180101.1                                                                  152752   \n",
       "\n",
       "                                            13                  14  \\\n",
       "LAND USE AND PRACTICES (acres)  Irrigated land  Harvested cropland   \n",
       "California                             8135688             7697801   \n",
       "California.1                           7950752             7398701   \n",
       "H180101                                 111897               97786   \n",
       "H180101.1                               125387              102587   \n",
       "\n",
       "                                                        15  \\\n",
       "LAND USE AND PRACTICES (acres)  Pastureland and other land   \n",
       "California                                          437887   \n",
       "California.1                                        552051   \n",
       "H180101                                              14111   \n",
       "H180101.1                                            22800   \n",
       "\n",
       "                                                                           16  \\\n",
       "LAND USE AND PRACTICES (acres)  Cropland on which no-till practices were used   \n",
       "California                                                             227027   \n",
       "California.1                                                           246871   \n",
       "H180101                                                                  1732   \n",
       "H180101.1                                                                2947   \n",
       "\n",
       "                                                                               17  \n",
       "LAND USE AND PRACTICES (acres)  Cropland on which conservation or reduced till...  \n",
       "California                                                                 802822  \n",
       "California.1                                                               767120  \n",
       "H180101                                                                      2502  \n",
       "H180101.1                                                                    1799  "
      ]
     },
     "execution_count": 16,
     "metadata": {},
     "output_type": "execute_result"
    }
   ],
   "source": [
    "usda.head()"
   ]
  },
  {
   "cell_type": "code",
   "execution_count": 19,
   "id": "9cd07e1f-e2c5-4dbf-8d62-cc3e726fed72",
   "metadata": {},
   "outputs": [],
   "source": [
    "usda.to_csv('usda.csv', index=True)\n",
    "\n",
    "# Exported to clean in OpenRefine"
   ]
  },
  {
   "cell_type": "code",
   "execution_count": null,
   "id": "871da33b-e328-4188-b7f3-399ed27e06c1",
   "metadata": {},
   "outputs": [],
   "source": []
  }
 ],
 "metadata": {
  "kernelspec": {
   "display_name": "Python 3 (ipykernel)",
   "language": "python",
   "name": "python3"
  },
  "language_info": {
   "codemirror_mode": {
    "name": "ipython",
    "version": 3
   },
   "file_extension": ".py",
   "mimetype": "text/x-python",
   "name": "python",
   "nbconvert_exporter": "python",
   "pygments_lexer": "ipython3",
   "version": "3.13.2"
  }
 },
 "nbformat": 4,
 "nbformat_minor": 5
}
