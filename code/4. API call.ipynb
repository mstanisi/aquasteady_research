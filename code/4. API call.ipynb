{
 "cells": [
  {
   "cell_type": "code",
   "execution_count": 2,
   "id": "c234fd5c-3f08-474f-b6ce-a0fca0cbf334",
   "metadata": {},
   "outputs": [],
   "source": [
    "!pip install --quiet geopandas"
   ]
  },
  {
   "cell_type": "code",
   "execution_count": 4,
   "id": "a79c9be9-2cea-49ba-b0b9-4b72eb892326",
   "metadata": {},
   "outputs": [],
   "source": [
    "import datetime\n",
    "import os\n",
    "import requests\n",
    "import time\n",
    "import pandas as pd\n",
    "import geopandas as gpd\n",
    "import matplotlib.pyplot as plt\n",
    "plt.style.use('classic')\n",
    "%matplotlib inline\n",
    "import numpy as np\n",
    "requests.packages.urllib3.disable_warnings(requests.packages.urllib3.exceptions.InsecureRequestWarning)"
   ]
  },
  {
   "cell_type": "code",
   "execution_count": 5,
   "id": "1abe45b8-be6f-4001-bc2b-9ddad30273ca",
   "metadata": {},
   "outputs": [],
   "source": [
    "root_url = 'https://api.climateengine.org/'"
   ]
  },
  {
   "cell_type": "code",
   "execution_count": 6,
   "id": "1c38752e-7b1a-4f59-a96c-8cfb25960552",
   "metadata": {},
   "outputs": [],
   "source": [
    "headers = {'Authorization':'YOUR_DESIGNATED_KEY'}"
   ]
  },
  {
   "cell_type": "code",
   "execution_count": 7,
   "id": "1286791a-26c1-432b-bbe8-457e32158a01",
   "metadata": {},
   "outputs": [],
   "source": [
    "bucket_name = 'YOUR_BUCKET_NAME'"
   ]
  },
  {
   "cell_type": "code",
   "execution_count": 9,
   "id": "c37e47e6-d8a9-4900-90ef-28a627daf5c6",
   "metadata": {},
   "outputs": [],
   "source": [
    "anomEndpoint = 'raster/export/standard_index'"
   ]
  },
  {
   "cell_type": "code",
   "execution_count": 10,
   "id": "cd492a51-fd3a-49b2-a481-17b0d2634212",
   "metadata": {},
   "outputs": [],
   "source": [
    "anomExport_filename = 'MODIS_LST_ANOM'"
   ]
  },
  {
   "cell_type": "code",
   "execution_count": 24,
   "id": "07afb9ac-d05e-48c0-a409-3047f40b57a0",
   "metadata": {},
   "outputs": [],
   "source": [
    "dataset = \"GRIDMET\"\n",
    "variable ='spi'\n",
    "start_date = '2019-01-01'\n",
    "end_date ='2019-10-16'\n",
    "start_year ='1981'\n",
    "end_year = '2010'\n",
    "bounding_box = f'[-139,49,-138,50]'\n",
    "export_path = 'ncei-nidis/test/test_values'\n",
    "export_projection ='EPSG:4326'\n",
    "export_resolution ='4000'"
   ]
  },
  {
   "cell_type": "code",
   "execution_count": 25,
   "id": "8257de5e-b257-4fc2-be6e-9b851882eed0",
   "metadata": {},
   "outputs": [],
   "source": [
    "url = f\"https://api.climateengine.org/raster/export/standard_index?dataset={dataset}&variable={variable}&start_date={start_date}&end_date={end_date}&start_year={start_year}&end_year={end_year}&bounding_box={bounding_box}&export_path={export_path}&export_projection={export_projection}&export_resolution={export_resolution}\""
   ]
  },
  {
   "cell_type": "code",
   "execution_count": 26,
   "id": "0758e97e-f4d0-4eca-9014-7f50b89cf0c1",
   "metadata": {},
   "outputs": [
    {
     "data": {
      "text/plain": [
       "'https://api.climateengine.org/raster/export/standard_index?dataset=GRIDMET&variable=spi&start_date=2019-01-01&end_date=2019-10-16&start_year=1981&end_year=2010&bounding_box=[-139,49,-138,50]&export_path=ncei-nidis/test/test_values&export_projection=EPSG:4326&export_resolution=4000'"
      ]
     },
     "execution_count": 26,
     "metadata": {},
     "output_type": "execute_result"
    }
   ],
   "source": [
    "url"
   ]
  },
  {
   "cell_type": "code",
   "execution_count": null,
   "id": "efa7b854-5a1b-47fc-8317-e73768f7b71f",
   "metadata": {},
   "outputs": [],
   "source": []
  }
 ],
 "metadata": {
  "kernelspec": {
   "display_name": "Python 3 (ipykernel)",
   "language": "python",
   "name": "python3"
  },
  "language_info": {
   "codemirror_mode": {
    "name": "ipython",
    "version": 3
   },
   "file_extension": ".py",
   "mimetype": "text/x-python",
   "name": "python",
   "nbconvert_exporter": "python",
   "pygments_lexer": "ipython3",
   "version": "3.13.2"
  }
 },
 "nbformat": 4,
 "nbformat_minor": 5
}
